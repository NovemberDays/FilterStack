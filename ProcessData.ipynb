{
 "cells": [
  {
   "cell_type": "code",
   "execution_count": 2,
   "id": "94e47b7d-9f8a-4fbb-b058-395ffab8d532",
   "metadata": {},
   "outputs": [],
   "source": [
    "import os\n",
    "import cv2\n",
    "import numpy as np\n",
    "from typing import List\n",
    "import matplotlib.pyplot as plt"
   ]
  },
  {
   "cell_type": "code",
   "execution_count": 3,
   "id": "a15acf12-6890-4020-a5c5-903329228895",
   "metadata": {},
   "outputs": [],
   "source": [
    "seed = 1234\n",
    "np.random.seed(seed)"
   ]
  },
  {
   "cell_type": "code",
   "execution_count": 4,
   "id": "73f104cc-a5d1-4076-8fc7-0a415a2ba409",
   "metadata": {},
   "outputs": [],
   "source": [
    "def process_data(directories: List[str], image_size=(32, 32)):\n",
    "    images = []\n",
    "    labels = []\n",
    "    for i, label_directory in enumerate(directories):\n",
    "        for filename in os.listdir(label_directory):\n",
    "            filepath = os.path.join(label_directory, filename)\n",
    "            img = cv2.imread(filepath)\n",
    "            if img is not None:\n",
    "                img = cv2.resize(img, image_size)\n",
    "                img = cv2.cvtColor(img, cv2.COLOR_BGR2RGB)\n",
    "                images.append(img)\n",
    "                labels.append(i)\n",
    "    return np.array(images), np.array(labels)"
   ]
  },
  {
   "cell_type": "code",
   "execution_count": 6,
   "id": "f7760c02-b5b7-4e92-b8fd-d83b14875a1c",
   "metadata": {},
   "outputs": [],
   "source": [
    "directory = ['Eggs/NotDamaged', 'Eggs/Damaged']\n",
    "images, labels = process_data(directory)"
   ]
  },
  {
   "cell_type": "code",
   "execution_count": 7,
   "id": "75408036-067c-4a04-bb18-268379ee86eb",
   "metadata": {},
   "outputs": [],
   "source": [
    "np.savez(images=images, labels=labels, file='Dataset/eggs.npz')"
   ]
  },
  {
   "cell_type": "code",
   "execution_count": 8,
   "id": "04621504-f7c4-4dae-9ea5-4499437bc35d",
   "metadata": {},
   "outputs": [],
   "source": [
    "directory = ['corals/healthy_corals', 'corals/bleached_corals']\n",
    "images, labels = process_data(directory)"
   ]
  },
  {
   "cell_type": "code",
   "execution_count": 10,
   "id": "a8c94dc2-eb3b-440f-8a1a-11cac70e5c08",
   "metadata": {},
   "outputs": [],
   "source": [
    "np.savez(images=images, labels=labels, file='Dataset/corals.npz')"
   ]
  },
  {
   "cell_type": "code",
   "execution_count": null,
   "id": "3a211048-1416-48a3-8ce0-3b72bd969f79",
   "metadata": {},
   "outputs": [],
   "source": []
  },
  {
   "cell_type": "code",
   "execution_count": 1,
   "id": "6847e812-2864-4d0f-8292-577cd9e4a895",
   "metadata": {},
   "outputs": [],
   "source": [
    "import os\n",
    "import cv2\n",
    "import numpy as np\n",
    "from sklearn.preprocessing import LabelEncoder\n",
    "\n",
    "def load_images_from_folder(folder):\n",
    "    images = []\n",
    "    labels = []\n",
    "    for label_dir in os.listdir(folder):\n",
    "        label_path = os.path.join(folder, label_dir)\n",
    "        if os.path.isdir(label_path):\n",
    "            for filename in os.listdir(label_path):\n",
    "                img_path = os.path.join(label_path, filename)\n",
    "                try:\n",
    "                    img = cv2.imread(img_path)\n",
    "                    img = cv2.cvtColor(img, cv2.COLOR_BGR2RGB)  # Convert to RGB\n",
    "                    img = cv2.resize(img, (32, 32))  # Resize to a fixed size (optional)\n",
    "                    images.append(img)\n",
    "                    labels.append(label_dir)\n",
    "                except Exception as e:\n",
    "                    print(f\"Error loading image {img_path}: {e}\")\n",
    "    return images, labels\n",
    "\n",
    "def process_dataset(data_dir):\n",
    "    train_dir = os.path.join(data_dir, 'train')\n",
    "    test_dir = os.path.join(data_dir, 'test')\n",
    "    val_dir = os.path.join(data_dir, 'val')\n",
    "\n",
    "    # Load training data\n",
    "    train_images, train_labels = load_images_from_folder(train_dir)\n",
    "\n",
    "    # Load test data\n",
    "    test_images, test_labels = load_images_from_folder(test_dir)\n",
    "\n",
    "    val_images, val_labels = load_images_from_folder(val_dir)\n",
    "    \n",
    "    print(len(train_images), len(test_images))\n",
    "    print(len(train_labels), len(test_labels))\n",
    "    print(len(val_images), len(val_labels))\n",
    "\n",
    "    # Merge train and test data\n",
    "    images = train_images + test_images + val_images\n",
    "    labels = train_labels + test_labels + val_labels\n",
    "    print(len(images))\n",
    "    print(len(labels))\n",
    "    \n",
    "    # Encode labels\n",
    "    le = LabelEncoder()\n",
    "    labels_encoded = le.fit_transform(labels)\n",
    "\n",
    "    # Convert lists to numpy arrays\n",
    "    images = np.array(images)\n",
    "    labels_encoded = np.array(labels_encoded)\n",
    "\n",
    "    # Save to npz file\n",
    "    np.savez_compressed('Dataset/xray.npz', \n",
    "                        images=images, labels=labels_encoded,\n",
    "                        label_classes=le.classes_)\n",
    "\n",
    "    print(\"Data has been saved to image_classification_data.npz\")"
   ]
  },
  {
   "cell_type": "code",
   "execution_count": 2,
   "id": "d7d16536-066b-4579-a49c-e284513878b6",
   "metadata": {},
   "outputs": [
    {
     "name": "stdout",
     "output_type": "stream",
     "text": [
      "5216 624\n",
      "5216 624\n",
      "16 16\n",
      "5856\n",
      "5856\n",
      "Data has been saved to image_classification_data.npz\n"
     ]
    }
   ],
   "source": [
    "data_dir = 'chest_xray'  # Replace with the actual path\n",
    "process_dataset(data_dir)"
   ]
  },
  {
   "cell_type": "code",
   "execution_count": null,
   "id": "18ce6c39-4818-428c-b9f4-66985a3461e2",
   "metadata": {},
   "outputs": [],
   "source": []
  },
  {
   "cell_type": "code",
   "execution_count": 15,
   "id": "c50caf36-7025-4ee9-9a2f-ee04ff3592c6",
   "metadata": {},
   "outputs": [],
   "source": [
    "import os\n",
    "import cv2\n",
    "import numpy as np\n",
    "from sklearn.preprocessing import LabelEncoder\n",
    "\n",
    "def load_images_from_folder(folder):\n",
    "    images = []\n",
    "    labels = []\n",
    "    for label_dir in os.listdir(folder):\n",
    "        if label_dir == 'Viral Pneumonia':\n",
    "            continue\n",
    "        print(label_dir)\n",
    "        label_path = os.path.join(folder, label_dir)\n",
    "        if os.path.isdir(label_path):\n",
    "            for filename in os.listdir(label_path):\n",
    "                img_path = os.path.join(label_path, filename)\n",
    "                try:\n",
    "                    img = cv2.imread(img_path)\n",
    "                    img = cv2.cvtColor(img, cv2.COLOR_BGR2RGB)  # Convert to RGB\n",
    "                    img = cv2.resize(img, (32, 32))  # Resize to a fixed size (optional)\n",
    "                    images.append(img)\n",
    "                    labels.append(label_dir)\n",
    "                except Exception as e:\n",
    "                    print(f\"Error loading image {img_path}: {e}\")\n",
    "    return images, labels\n",
    "\n",
    "def process_dataset(data_dir):\n",
    "    train_dir = os.path.join(data_dir, 'train')\n",
    "    test_dir = os.path.join(data_dir, 'test')\n",
    "\n",
    "    # Load training data\n",
    "    train_images, train_labels = load_images_from_folder(train_dir)\n",
    "\n",
    "    # Load test data\n",
    "    test_images, test_labels = load_images_from_folder(test_dir)\n",
    "\n",
    "    \n",
    "    print(len(train_images), len(test_images))\n",
    "    print(len(train_labels), len(test_labels))\n",
    "\n",
    "    # Merge train and test data\n",
    "    images = train_images + test_images\n",
    "    labels = train_labels + test_labels\n",
    "    print(len(images))\n",
    "    print(len(labels))\n",
    "    \n",
    "    # Encode labels\n",
    "    le = LabelEncoder()\n",
    "    labels_encoded = le.fit_transform(labels)\n",
    "\n",
    "    # Convert lists to numpy arrays\n",
    "    images = np.array(images)\n",
    "    labels_encoded = np.array(labels_encoded)\n",
    "\n",
    "    # Save to npz file\n",
    "    np.savez_compressed('Dataset/covid.npz', \n",
    "                        images=images, labels=labels_encoded,\n",
    "                        label_classes=le.classes_)\n",
    "\n",
    "    print(\"Data has been saved to image_classification_data.npz\")"
   ]
  },
  {
   "cell_type": "code",
   "execution_count": 16,
   "id": "3f4f63da-4b2a-4a21-9495-2044ff9baf1b",
   "metadata": {},
   "outputs": [
    {
     "name": "stdout",
     "output_type": "stream",
     "text": [
      "Covid\n",
      "Normal\n",
      "Covid\n",
      "Normal\n",
      "181 46\n",
      "181 46\n",
      "227\n",
      "227\n",
      "Data has been saved to image_classification_data.npz\n"
     ]
    },
    {
     "name": "stderr",
     "output_type": "stream",
     "text": [
      "Exception ignored in atexit callback: <bound method InteractiveShell.atexit_operations of <ipykernel.zmqshell.ZMQInteractiveShell object at 0x7b6761407950>>\n",
      "Traceback (most recent call last):\n",
      "  File \"/home/parkmyungheon/anaconda3/envs/Keras/lib/python3.11/site-packages/IPython/core/interactiveshell.py\", line 3920, in atexit_operations\n",
      "    self._atexit_once()\n",
      "  File \"/home/parkmyungheon/anaconda3/envs/Keras/lib/python3.11/site-packages/IPython/core/interactiveshell.py\", line 3903, in _atexit_once\n",
      "    self.history_manager.end_session()\n",
      "  File \"/home/parkmyungheon/anaconda3/envs/Keras/lib/python3.11/site-packages/IPython/core/history.py\", line 585, in end_session\n",
      "    self.db.execute(\n",
      "sqlite3.OperationalError: attempt to write a readonly database\n"
     ]
    }
   ],
   "source": [
    "data_dir = 'Covid19-dataset'  # Replace with the actual path\n",
    "process_dataset(data_dir)"
   ]
  },
  {
   "cell_type": "code",
   "execution_count": null,
   "id": "12eeab4b-6e97-4399-a3ee-ca3d45bc0fc2",
   "metadata": {},
   "outputs": [],
   "source": []
  },
  {
   "cell_type": "code",
   "execution_count": null,
   "id": "befba593-f30a-400d-959d-1e9adc806a91",
   "metadata": {},
   "outputs": [],
   "source": []
  },
  {
   "cell_type": "code",
   "execution_count": 4,
   "id": "ed69f454-128b-46da-a232-1039821df8e9",
   "metadata": {},
   "outputs": [],
   "source": [
    "directories = ['Car-Bike-Dataset/Car', 'Car-Bike-Dataset/Bike']\n",
    "images, labels = process_data(directories)"
   ]
  },
  {
   "cell_type": "code",
   "execution_count": 6,
   "id": "d0ef8f8d-a2e7-4762-b836-c5c9c54566d5",
   "metadata": {},
   "outputs": [],
   "source": [
    "np.savez(images=images, labels=labels, file='Dataset/car_bike_raw.npz')"
   ]
  },
  {
   "cell_type": "code",
   "execution_count": 7,
   "id": "a218ecf1-6246-4852-b945-2d830b413e8e",
   "metadata": {},
   "outputs": [],
   "source": [
    "directories = ['pizza_not_pizza/pizza', 'pizza_not_pizza/not_pizza']\n",
    "images, labels = process_data(directories, (32, 32))"
   ]
  },
  {
   "cell_type": "code",
   "execution_count": 8,
   "id": "188dcc36-e747-452a-8919-84d0885bb1cb",
   "metadata": {},
   "outputs": [],
   "source": [
    "np.savez(images=images, labels=labels, file='Dataset/pizza_raw_32.npz')"
   ]
  },
  {
   "cell_type": "code",
   "execution_count": 9,
   "id": "d914158c-0b69-42e4-8fda-66d8269054e3",
   "metadata": {},
   "outputs": [
    {
     "name": "stderr",
     "output_type": "stream",
     "text": [
      "2024-05-01 02:20:03.878756: I external/local_tsl/tsl/cuda/cudart_stub.cc:32] Could not find cuda drivers on your machine, GPU will not be used.\n",
      "2024-05-01 02:20:03.881041: I external/local_tsl/tsl/cuda/cudart_stub.cc:32] Could not find cuda drivers on your machine, GPU will not be used.\n",
      "2024-05-01 02:20:03.902550: I tensorflow/core/platform/cpu_feature_guard.cc:210] This TensorFlow binary is optimized to use available CPU instructions in performance-critical operations.\n",
      "To enable the following instructions: AVX2 FMA, in other operations, rebuild TensorFlow with the appropriate compiler flags.\n",
      "2024-05-01 02:20:04.520010: W tensorflow/compiler/tf2tensorrt/utils/py_utils.cc:38] TF-TRT Warning: Could not find TensorRT\n"
     ]
    }
   ],
   "source": [
    "import tensorflow"
   ]
  },
  {
   "cell_type": "code",
   "execution_count": 10,
   "id": "fa0f5267-f537-4dc8-8fe7-81f0a4449bce",
   "metadata": {},
   "outputs": [],
   "source": [
    "def get_n_labels_random_samples(n, m):\n",
    "    (X_train, y_train), (X_test, y_test) = tensorflow.keras.datasets.cifar10.load_data()\n",
    "    X_combined = np.concatenate((X_train, X_test), axis=0)\n",
    "    y_combined = np.concatenate((y_train, y_test), axis=0)\n",
    "\n",
    "    filtered_images = []\n",
    "    filtered_labels = []\n",
    "\n",
    "    y_combined = y_combined.squeeze()\n",
    "    \n",
    "    for label in range(n):\n",
    "        indices = np.where(y_combined == label)[0]\n",
    "        np.random.shuffle(indices)\n",
    "        indices = indices[: m]\n",
    "        filtered_images.extend(X_combined[indices])\n",
    "        filtered_labels.extend(y_combined[indices])\n",
    "\n",
    "    filtered_images = np.array(filtered_images)\n",
    "    filtered_labels = np.array(filtered_labels)\n",
    "    return filtered_images, filtered_labels"
   ]
  },
  {
   "cell_type": "code",
   "execution_count": 11,
   "id": "156b1ee8-78a2-4adb-b7c3-317e22001878",
   "metadata": {},
   "outputs": [],
   "source": [
    "n = 2\n",
    "m = 500"
   ]
  },
  {
   "cell_type": "code",
   "execution_count": 12,
   "id": "75a44108-a337-4ff1-8e42-6c3d885589ae",
   "metadata": {},
   "outputs": [],
   "source": [
    "images, labels = get_n_labels_random_samples(n, m)"
   ]
  },
  {
   "cell_type": "code",
   "execution_count": 13,
   "id": "02f4dc4d-accc-4c22-a2cd-6349f8544859",
   "metadata": {},
   "outputs": [],
   "source": [
    "np.savez(images=images, labels=labels, file='Dataset/cifar10_2_500.npz')"
   ]
  }
 ],
 "metadata": {
  "kernelspec": {
   "display_name": "Python 3 (ipykernel)",
   "language": "python",
   "name": "python3"
  },
  "language_info": {
   "codemirror_mode": {
    "name": "ipython",
    "version": 3
   },
   "file_extension": ".py",
   "mimetype": "text/x-python",
   "name": "python",
   "nbconvert_exporter": "python",
   "pygments_lexer": "ipython3",
   "version": "3.11.0"
  }
 },
 "nbformat": 4,
 "nbformat_minor": 5
}
