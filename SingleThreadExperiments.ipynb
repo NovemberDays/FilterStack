{
 "cells": [
  {
   "cell_type": "code",
   "execution_count": 1,
   "id": "345748aa-6652-4714-b494-177ae71947e2",
   "metadata": {},
   "outputs": [
    {
     "name": "stderr",
     "output_type": "stream",
     "text": [
      "2024-06-23 01:28:40.204133: I external/local_tsl/tsl/cuda/cudart_stub.cc:32] Could not find cuda drivers on your machine, GPU will not be used.\n",
      "2024-06-23 01:28:40.251465: I external/local_tsl/tsl/cuda/cudart_stub.cc:32] Could not find cuda drivers on your machine, GPU will not be used.\n",
      "2024-06-23 01:28:40.408243: I tensorflow/core/platform/cpu_feature_guard.cc:210] This TensorFlow binary is optimized to use available CPU instructions in performance-critical operations.\n",
      "To enable the following instructions: AVX2 FMA, in other operations, rebuild TensorFlow with the appropriate compiler flags.\n",
      "2024-06-23 01:28:41.225587: W tensorflow/compiler/tf2tensorrt/utils/py_utils.cc:38] TF-TRT Warning: Could not find TensorRT\n"
     ]
    }
   ],
   "source": [
    "import numpy as np\n",
    "import tensorflow as tf\n",
    "from tensorflow.keras import layers, Model\n",
    "from sklearn.ensemble import RandomForestClassifier\n",
    "from sklearn.svm import SVC\n",
    "from sklearn.metrics import accuracy_score, precision_score, recall_score\n",
    "from sklearn.model_selection import train_test_split, StratifiedKFold, cross_validate\n",
    "from scikeras.wrappers import KerasClassifier\n",
    "import time\n",
    "import matplotlib.pyplot as plt"
   ]
  },
  {
   "cell_type": "code",
   "execution_count": 2,
   "id": "8fb35641-02c6-45a6-97f2-6325edce63b0",
   "metadata": {},
   "outputs": [],
   "source": [
    "tf.config.threading.set_inter_op_parallelism_threads(1)\n",
    "tf.config.threading.set_intra_op_parallelism_threads(1)"
   ]
  },
  {
   "cell_type": "code",
   "execution_count": 3,
   "id": "7110e12a-8cbe-4ffb-b355-6e2d4fca09d8",
   "metadata": {},
   "outputs": [],
   "source": [
    "seed = 1234\n",
    "np.random.seed(seed)\n",
    "tf.keras.utils.set_random_seed(seed)\n",
    "tf.random.set_seed(seed)"
   ]
  },
  {
   "cell_type": "code",
   "execution_count": 4,
   "id": "c1a127c9-c476-48e1-a14c-3c8898ed61ac",
   "metadata": {},
   "outputs": [],
   "source": [
    "def rgb_to_gray(rgb_images):\n",
    "    gray_images = np.dot(rgb_images[...,: 3], [0.299, 0.587, 0.114])\n",
    "    return gray_images"
   ]
  },
  {
   "cell_type": "code",
   "execution_count": 5,
   "id": "0c0ade56-3209-4632-a301-fd692bbb1d67",
   "metadata": {},
   "outputs": [],
   "source": [
    "def get_dataset(directory):\n",
    "    raw_npz = np.load(directory)\n",
    "    X = raw_npz['images']\n",
    "    y = raw_npz['labels']\n",
    "    gray_images = rgb_to_gray(X)\n",
    "    gray_images /= 255.0\n",
    "    return gray_images, y"
   ]
  },
  {
   "cell_type": "code",
   "execution_count": 6,
   "id": "b681d210-f707-4bac-9a1b-42e5cb4de460",
   "metadata": {},
   "outputs": [],
   "source": [
    "rf_hyp = {\n",
    "    'n_estimators': 10,\n",
    "    'criterion': 'log_loss',\n",
    "    'max_depth': 5,\n",
    "    'random_state': seed,\n",
    "}\n",
    "\n",
    "xgb_hyp = {\n",
    "    'n_estimators': 10,\n",
    "    'max_depth': 5,\n",
    "    'random_state': seed,\n",
    "}\n",
    "\n",
    "svm_hyp = {\n",
    "    'random_state': seed,\n",
    "}"
   ]
  },
  {
   "cell_type": "code",
   "execution_count": 7,
   "id": "adbd2d26-e85f-4d9f-b4e2-0179b378e4d8",
   "metadata": {},
   "outputs": [],
   "source": [
    "datasets = [\n",
    "\t('Dataset/car_bike_raw.npz', 'Car Bike Dataset'),\n",
    "\t('Dataset/cifar10_2_500.npz', 'CIFAR10 Dataset'),\n",
    "\t('Dataset/pizza_raw_32.npz', 'Pizza Dataset'),\n",
    "\t('Dataset/corals.npz', 'Corals Dataset'),\n",
    "\t('Dataset/eggs.npz', 'Eggs Dataset'),\n",
    "\t('Dataset/xray.npz', 'Xray Dataset'),\n",
    "\t('Dataset/covid.npz', 'Covid19 Dataset'),\n",
    "]"
   ]
  },
  {
   "cell_type": "code",
   "execution_count": 8,
   "id": "b9518c96-c1d7-4785-848b-5fb05e00d14d",
   "metadata": {},
   "outputs": [],
   "source": [
    "class RK:\n",
    "    def __init__(self, model, rf_hyp, svm_hyp):\n",
    "        self.model = Model(inputs=model.input, outputs=x)\n",
    "        self.rf_hyp = rf_hyp\n",
    "        self.svm = SVC(**svm_hyp)\n",
    "\n",
    "    def fit(self, X_train, y_train):\n",
    "        num_images = X_train.shape[0]\n",
    "        feature_maps = self.model.predict(X_train, verbose=0)\n",
    "\n",
    "        num_filters = feature_maps.shape[-1]\n",
    "        rf_predictions = []\n",
    "        self.trained_rf = []\n",
    "        for i in range(num_filters):\n",
    "            features = feature_maps[:, :, :, i].reshape(num_images, -1)\n",
    "            # If want to plot:\n",
    "            # if i == 0:\n",
    "            #     num_filters = feature_maps.shape[-1]\n",
    "            #     plt.figure(figsize=(20, 20))\n",
    "            #     for i in range(num_filters):\n",
    "            #         plt.subplot(10, 10, i + 1)  # Adjust the subplot grid size based on the number of filters\n",
    "            #         plt.imshow(feature_maps[0, :, :, i], cmap='gray')\n",
    "            #         plt.axis('off')\n",
    "            rf = RandomForestClassifier(**self.rf_hyp)\n",
    "            rf.fit(features, y_train)\n",
    "            self.trained_rf.append(rf)\n",
    "            rf_predictions.append(rf.predict(features))\n",
    "        stacked_predictions = np.stack(rf_predictions, axis=1)\n",
    "        self.svm.fit(stacked_predictions, y_train)\n",
    "        return self.svm.predict(stacked_predictions)\n",
    "    \n",
    "    def predict(self, X):\n",
    "        num_images = X.shape[0]\n",
    "        feature_maps = self.model.predict(X, verbose=0)\n",
    "\n",
    "        num_filters = feature_maps.shape[-1]\n",
    "        rf_predictions = []\n",
    "        for i in range(num_filters):\n",
    "            features = feature_maps[:, :, :, i].reshape(num_images, -1)\n",
    "            rf_predictions.append(self.trained_rf[i].predict(features))\n",
    "        stacked_predictions = np.stack(rf_predictions, axis=1)\n",
    "        return self.svm.predict(stacked_predictions)"
   ]
  },
  {
   "cell_type": "code",
   "execution_count": 9,
   "id": "3dce8776-b1b3-4590-bd49-f87d07c46759",
   "metadata": {},
   "outputs": [],
   "source": [
    "input_layer = tf.keras.Input(shape=(32, 32, 1))\n",
    "conv_layer = layers.Conv2D(100, (3, 3), activation='relu')(input_layer)\n",
    "x = layers.MaxPooling2D((2, 2))(conv_layer)\n",
    "model = Model(inputs=input_layer, outputs=x)\n",
    "model.trainable = False"
   ]
  },
  {
   "cell_type": "code",
   "execution_count": 10,
   "id": "70f44363-0521-4327-a2e0-da01dc9b4bca",
   "metadata": {},
   "outputs": [],
   "source": [
    "def cv(directory):\n",
    "    X, y = get_dataset(directory)\n",
    "    kf = StratifiedKFold(n_splits=5, shuffle=True, random_state=seed)\n",
    "    train_accs = []\n",
    "    test_accs = []\n",
    "\n",
    "    train_prec = []\n",
    "    test_prec = []\n",
    "\n",
    "    train_recall = []\n",
    "    test_recall = []\n",
    "\n",
    "    train_times = []\n",
    "    test_times = []\n",
    "\n",
    "    for i, (train_indices, test_indices) in enumerate(kf.split(X, y)):\n",
    "        X_train, X_test, y_train, y_test = X[train_indices], X[test_indices], y[train_indices], y[test_indices]\n",
    "        \n",
    "        # Start of training time\n",
    "        start_train_time = time.time()\n",
    "        clf = RK(model, rf_hyp, svm_hyp)\n",
    "        pred_train = clf.fit(X_train, y_train)\n",
    "        end_train_time = time.time()\n",
    "        train_time = end_train_time - start_train_time\n",
    "        train_times.append(train_time)\n",
    "        # End of training, beginning of evaluation/test time\n",
    "        \n",
    "        start_test_time = time.time()\n",
    "        pred_test = clf.predict(X_test)\n",
    "        end_test_time = time.time()\n",
    "        test_time = end_test_time - start_test_time\n",
    "        # End of test time\n",
    "        test_times.append(test_time)\n",
    "\n",
    "        train_accs.append(accuracy_score(y_train, pred_train))\n",
    "        test_accs.append(accuracy_score(y_test, pred_test))\n",
    "\n",
    "        train_prec.append(precision_score(y_train, pred_train))\n",
    "        test_prec.append(precision_score(y_test, pred_test))\n",
    "\n",
    "        train_recall.append(recall_score(y_train, pred_train))\n",
    "        test_recall.append(recall_score(y_test, pred_test))\n",
    "\n",
    "    print(\"Train Accuracies: \" + str(train_accs))\n",
    "    print(\"Test Accuracies: \" + str(test_accs))\n",
    "    print(\"Train Precisions: \" + str(train_prec))\n",
    "    print(\"Test Precisions: \" + str(test_prec))\n",
    "    print(\"Train Recalls: \" + str(train_recall))\n",
    "    print(\"Test Recalls: \" + str(test_recall))\n",
    "    print(\"Train Times: \" + str(train_times))\n",
    "    print(\"Test Times: \" + str(test_times))\n",
    "    \n",
    "    return train_accs, test_accs, train_prec, test_prec, train_recall, test_recall, train_times, test_times"
   ]
  },
  {
   "cell_type": "code",
   "execution_count": 11,
   "id": "a94ef324-31e9-4d47-9915-7e5a77af8b40",
   "metadata": {},
   "outputs": [
    {
     "name": "stdout",
     "output_type": "stream",
     "text": [
      "Dataset/car_bike_raw.npz\n",
      "Train Accuracies: [0.9671875, 0.96625, 0.97125, 0.96875, 0.9684375]\n",
      "Test Accuracies: [0.86875, 0.88625, 0.84, 0.85375, 0.85625]\n",
      "Train Precisions: [0.9716088328075709, 0.9715549936788875, 0.9748110831234257, 0.9740834386852086, 0.9734680985470625]\n",
      "Test Precisions: [0.8753180661577609, 0.87409200968523, 0.8451776649746193, 0.8528678304239401, 0.8589420654911839]\n",
      "Train Recalls: [0.9625, 0.960625, 0.9675, 0.963125, 0.963125]\n",
      "Test Recalls: [0.86, 0.9025, 0.8325, 0.855, 0.8525]\n",
      "Train Times: [13.73506236076355, 13.586729526519775, 13.491044521331787, 13.467337846755981, 13.449049472808838]\n",
      "Test Times: [0.44195103645324707, 0.3540201187133789, 0.34664297103881836, 0.35665321350097656, 0.3513641357421875]\n",
      "Dataset/cifar10_2_500.npz\n",
      "Train Accuracies: [0.9925, 0.9925, 0.99375, 0.99, 0.9925]\n",
      "Test Accuracies: [0.865, 0.825, 0.83, 0.875, 0.885]\n",
      "Train Precisions: [1.0, 0.9974747474747475, 1.0, 1.0, 0.9949748743718593]\n",
      "Test Precisions: [0.8543689320388349, 0.7777777777777778, 0.7844827586206896, 0.8151260504201681, 0.8737864077669902]\n",
      "Train Recalls: [0.985, 0.9875, 0.9875, 0.98, 0.99]\n",
      "Test Recalls: [0.88, 0.91, 0.91, 0.97, 0.9]\n",
      "Train Times: [3.3488595485687256, 3.258500576019287, 3.268192768096924, 3.4060513973236084, 3.2810909748077393]\n",
      "Test Times: [0.16353511810302734, 0.15374493598937988, 0.15641021728515625, 0.1560051441192627, 0.15396571159362793]\n",
      "Dataset/pizza_raw_32.npz\n",
      "Train Accuracies: [0.9745547073791349, 0.9745708836617928, 0.9796567069294342, 0.9764780673871583, 0.9771137952956135]\n",
      "Test Accuracies: [0.7411167512690355, 0.732824427480916, 0.7175572519083969, 0.7022900763358778, 0.7073791348600509]\n",
      "Train Precisions: [0.9674185463659147, 0.9721871049304678, 0.9748427672955975, 0.9698870765370138, 0.9711055276381909]\n",
      "Test Precisions: [0.736318407960199, 0.7177033492822966, 0.7033492822966507, 0.698019801980198, 0.7029702970297029]\n",
      "Train Recalls: [0.9821882951653944, 0.97712833545108, 0.9847522236340533, 0.9834605597964376, 0.9834605597964376]\n",
      "Test Recalls: [0.751269035532995, 0.7653061224489796, 0.75, 0.7157360406091371, 0.7208121827411168]\n",
      "Train Times: [6.784963130950928, 6.719179153442383, 6.724801540374756, 6.699733734130859, 6.703600645065308]\n",
      "Test Times: [0.20476889610290527, 0.20665907859802246, 0.2077622413635254, 0.2021799087524414, 0.20210528373718262]\n",
      "Dataset/corals.npz\n",
      "Train Accuracies: [0.9796747967479674, 0.986449864498645, 0.975609756097561, 0.9783491204330176, 0.9837618403247632]\n",
      "Test Accuracies: [0.6378378378378379, 0.6756756756756757, 0.6054054054054054, 0.6467391304347826, 0.6521739130434783]\n",
      "Train Precisions: [0.989501312335958, 0.9896373056994818, 0.9920212765957447, 0.9920634920634921, 0.982051282051282]\n",
      "Test Precisions: [0.6388888888888888, 0.6728971962616822, 0.6224489795918368, 0.6428571428571429, 0.6633663366336634]\n",
      "Train Recalls: [0.9716494845360825, 0.9845360824742269, 0.961340206185567, 0.9664948453608248, 0.9871134020618557]\n",
      "Test Recalls: [0.711340206185567, 0.7422680412371134, 0.6288659793814433, 0.7422680412371134, 0.6907216494845361]\n",
      "Train Times: [3.393603563308716, 3.290334939956665, 3.347076416015625, 3.3682708740234375, 3.369171619415283]\n",
      "Test Times: [0.13896560668945312, 0.14277219772338867, 0.14273333549499512, 0.14870572090148926, 0.14718866348266602]\n",
      "Dataset/eggs.npz\n",
      "Train Accuracies: [0.9763779527559056, 0.9826771653543307, 0.9826771653543307, 0.9858267716535433, 0.9764150943396226]\n",
      "Test Accuracies: [0.7735849056603774, 0.8238993710691824, 0.8553459119496856, 0.7987421383647799, 0.8164556962025317]\n",
      "Train Precisions: [0.9748549323017408, 0.9787234042553191, 0.9786821705426356, 0.9824902723735408, 0.9712092130518234]\n",
      "Test Precisions: [0.8629032258064516, 0.9016393442622951, 0.9, 0.8991596638655462, 0.8818897637795275]\n",
      "Train Recalls: [0.9960474308300395, 1.0, 1.0, 1.0, 1.0]\n",
      "Test Recalls: [0.8492063492063492, 0.873015873015873, 0.9212598425196851, 0.84251968503937, 0.8888888888888888]\n",
      "Train Times: [2.838196277618408, 2.8046085834503174, 2.798341751098633, 2.8375136852264404, 2.8201539516448975]\n",
      "Test Times: [0.1304330825805664, 0.12980222702026367, 0.135894775390625, 0.12973904609680176, 0.1291353702545166]\n",
      "Dataset/xray.npz\n",
      "Train Accuracies: [0.984201537147737, 0.9831376734258271, 0.9822838847385272, 0.9818569903948773, 0.9816435432230523]\n",
      "Test Accuracies: [0.9402730375426621, 0.9427839453458582, 0.9436379163108455, 0.9359521776259607, 0.9308283518360376]\n",
      "Train Precisions: [0.9818443804034582, 0.9823750361167293, 0.9804091040046097, 0.9792984473835538, 0.9790169588962345]\n",
      "Test Precisions: [0.9569266589057043, 0.9613583138173302, 0.9581881533101045, 0.9482163406214039, 0.9387060158910329]\n",
      "Train Recalls: [0.9967817437097718, 0.994733762434172, 0.9956114686951434, 0.9961977186311787, 0.9961977186311787]\n",
      "Test Recalls: [0.9614035087719298, 0.960233918128655, 0.9649122807017544, 0.9648711943793911, 0.968384074941452]\n",
      "Train Times: [19.070342302322388, 19.250258207321167, 19.110822677612305, 19.167534351348877, 19.06378197669983]\n",
      "Test Times: [0.5147783756256104, 0.565908670425415, 0.5185761451721191, 0.5457091331481934, 0.49747323989868164]\n",
      "Dataset/covid.npz\n",
      "Train Accuracies: [1.0, 1.0, 1.0, 1.0, 1.0]\n",
      "Test Accuracies: [0.9782608695652174, 0.9565217391304348, 1.0, 1.0, 0.9777777777777777]\n",
      "Train Precisions: [1.0, 1.0, 1.0, 1.0, 1.0]\n",
      "Test Precisions: [0.9473684210526315, 0.9444444444444444, 1.0, 1.0, 0.9473684210526315]\n",
      "Train Recalls: [1.0, 1.0, 1.0, 1.0, 1.0]\n",
      "Test Recalls: [1.0, 0.9444444444444444, 1.0, 1.0, 1.0]\n",
      "Train Times: [1.1355679035186768, 1.13242506980896, 1.1347386837005615, 1.1305453777313232, 1.1238834857940674]\n",
      "Test Times: [0.10672569274902344, 0.10331320762634277, 0.10769844055175781, 0.10180354118347168, 0.10456967353820801]\n"
     ]
    }
   ],
   "source": [
    "for dataset, _ in datasets:\n",
    "    print(dataset)\n",
    "    cv(dataset)"
   ]
  },
  {
   "cell_type": "code",
   "execution_count": 12,
   "id": "62524ebf-6801-4ae3-8b7f-56254d112e96",
   "metadata": {},
   "outputs": [],
   "source": [
    "def create_model():\n",
    "    model = tf.keras.Sequential([\n",
    "        layers.Conv2D(32, (3, 3), activation='relu', input_shape=(32, 32, 1)),\n",
    "        layers.MaxPooling2D((2, 2)),\n",
    "        layers.Conv2D(64, (3, 3), activation='relu'),\n",
    "        layers.MaxPooling2D((2, 2)),\n",
    "        layers.Conv2D(64, (3, 3), activation='relu'),\n",
    "        layers.Flatten(),\n",
    "        layers.Dense(64, activation='relu'),\n",
    "        layers.Dense(2)  # Output layer with number of classes\n",
    "    ])\n",
    "    model.compile(optimizer='adam',\n",
    "                 loss=tf.keras.losses.SparseCategoricalCrossentropy(from_logits=True),\n",
    "                 metrics=['accuracy'])\n",
    "    return model"
   ]
  },
  {
   "cell_type": "code",
   "execution_count": 13,
   "id": "03048db4-1b3b-49e8-a280-50c895c4b519",
   "metadata": {},
   "outputs": [],
   "source": [
    "def nn_cv(directory):\n",
    "    kf = StratifiedKFold(n_splits=5, shuffle=True, random_state=seed)\n",
    "    simpleCNN = KerasClassifier(model=create_model, epochs=20, batch_size=64, verbose=0)\n",
    "    X, y = get_dataset(directory)\n",
    "    results = cross_validate(simpleCNN, X, y, scoring=['accuracy', 'precision', 'recall'], cv=kf, return_train_score=True)\n",
    "    print(directory)\n",
    "    print(results['train_accuracy'])\n",
    "    print(results['test_accuracy'])\n",
    "    print(results['train_precision'])\n",
    "    print(results['test_precision'])\n",
    "    print(results['train_recall'])\n",
    "    print(results['test_recall'])\n",
    "    print(results['fit_time'])\n",
    "    print(results['score_time'])"
   ]
  },
  {
   "cell_type": "code",
   "execution_count": 14,
   "id": "cc2ff8a5-906a-4f65-9721-f29b2f7f3cb7",
   "metadata": {},
   "outputs": [
    {
     "name": "stderr",
     "output_type": "stream",
     "text": [
      "/home/parkmyungheon/anaconda3/envs/Keras/lib/python3.11/site-packages/keras/src/layers/convolutional/base_conv.py:107: UserWarning: Do not pass an `input_shape`/`input_dim` argument to a layer. When using Sequential models, prefer using an `Input(shape)` object as the first layer in the model instead.\n",
      "  super().__init__(activity_regularizer=activity_regularizer, **kwargs)\n",
      "/home/parkmyungheon/anaconda3/envs/Keras/lib/python3.11/site-packages/keras/src/layers/convolutional/base_conv.py:107: UserWarning: Do not pass an `input_shape`/`input_dim` argument to a layer. When using Sequential models, prefer using an `Input(shape)` object as the first layer in the model instead.\n",
      "  super().__init__(activity_regularizer=activity_regularizer, **kwargs)\n",
      "/home/parkmyungheon/anaconda3/envs/Keras/lib/python3.11/site-packages/keras/src/layers/convolutional/base_conv.py:107: UserWarning: Do not pass an `input_shape`/`input_dim` argument to a layer. When using Sequential models, prefer using an `Input(shape)` object as the first layer in the model instead.\n",
      "  super().__init__(activity_regularizer=activity_regularizer, **kwargs)\n",
      "/home/parkmyungheon/anaconda3/envs/Keras/lib/python3.11/site-packages/keras/src/layers/convolutional/base_conv.py:107: UserWarning: Do not pass an `input_shape`/`input_dim` argument to a layer. When using Sequential models, prefer using an `Input(shape)` object as the first layer in the model instead.\n",
      "  super().__init__(activity_regularizer=activity_regularizer, **kwargs)\n",
      "/home/parkmyungheon/anaconda3/envs/Keras/lib/python3.11/site-packages/keras/src/layers/convolutional/base_conv.py:107: UserWarning: Do not pass an `input_shape`/`input_dim` argument to a layer. When using Sequential models, prefer using an `Input(shape)` object as the first layer in the model instead.\n",
      "  super().__init__(activity_regularizer=activity_regularizer, **kwargs)\n"
     ]
    },
    {
     "name": "stdout",
     "output_type": "stream",
     "text": [
      "Dataset/car_bike_raw.npz\n",
      "[0.9609375 0.98875   0.99875   0.999375  0.9703125]\n",
      "[0.87625 0.89375 0.91125 0.9275  0.89625]\n",
      "[0.9280325  0.99120603 0.99750623 0.999375   0.99867462]\n",
      "[0.82646421 0.89473684 0.90024331 0.93181818 0.95942029]\n",
      "[0.999375 0.98625  1.       0.999375 0.941875]\n",
      "[0.9525 0.8925 0.925  0.9225 0.8275]\n",
      "[36.80512881 37.22847247 36.97008657 37.38165283 37.62366438]\n",
      "[0.21826816 0.23226643 0.21938205 0.22124624 0.22582817]\n"
     ]
    },
    {
     "name": "stderr",
     "output_type": "stream",
     "text": [
      "/home/parkmyungheon/anaconda3/envs/Keras/lib/python3.11/site-packages/keras/src/layers/convolutional/base_conv.py:107: UserWarning: Do not pass an `input_shape`/`input_dim` argument to a layer. When using Sequential models, prefer using an `Input(shape)` object as the first layer in the model instead.\n",
      "  super().__init__(activity_regularizer=activity_regularizer, **kwargs)\n",
      "/home/parkmyungheon/anaconda3/envs/Keras/lib/python3.11/site-packages/keras/src/layers/convolutional/base_conv.py:107: UserWarning: Do not pass an `input_shape`/`input_dim` argument to a layer. When using Sequential models, prefer using an `Input(shape)` object as the first layer in the model instead.\n",
      "  super().__init__(activity_regularizer=activity_regularizer, **kwargs)\n",
      "/home/parkmyungheon/anaconda3/envs/Keras/lib/python3.11/site-packages/keras/src/layers/convolutional/base_conv.py:107: UserWarning: Do not pass an `input_shape`/`input_dim` argument to a layer. When using Sequential models, prefer using an `Input(shape)` object as the first layer in the model instead.\n",
      "  super().__init__(activity_regularizer=activity_regularizer, **kwargs)\n",
      "/home/parkmyungheon/anaconda3/envs/Keras/lib/python3.11/site-packages/keras/src/layers/convolutional/base_conv.py:107: UserWarning: Do not pass an `input_shape`/`input_dim` argument to a layer. When using Sequential models, prefer using an `Input(shape)` object as the first layer in the model instead.\n",
      "  super().__init__(activity_regularizer=activity_regularizer, **kwargs)\n",
      "/home/parkmyungheon/anaconda3/envs/Keras/lib/python3.11/site-packages/keras/src/layers/convolutional/base_conv.py:107: UserWarning: Do not pass an `input_shape`/`input_dim` argument to a layer. When using Sequential models, prefer using an `Input(shape)` object as the first layer in the model instead.\n",
      "  super().__init__(activity_regularizer=activity_regularizer, **kwargs)\n"
     ]
    },
    {
     "name": "stdout",
     "output_type": "stream",
     "text": [
      "Dataset/cifar10_2_500.npz\n",
      "[0.94625 0.97875 0.9575  0.96875 0.975  ]\n",
      "[0.85  0.83  0.87  0.87  0.855]\n",
      "[1.         0.96368039 0.92757009 0.94964029 0.97979798]\n",
      "[0.92682927 0.8        0.81896552 0.81896552 0.90804598]\n",
      "[0.8925 0.995  0.9925 0.99   0.97  ]\n",
      "[0.76 0.88 0.95 0.95 0.79]\n",
      "[10.0961647  10.05270696 10.3474791  10.1334269   9.96807146]\n",
      "[0.12784433 0.12463379 0.1292181  0.12643981 0.12912345]\n"
     ]
    },
    {
     "name": "stderr",
     "output_type": "stream",
     "text": [
      "/home/parkmyungheon/anaconda3/envs/Keras/lib/python3.11/site-packages/keras/src/layers/convolutional/base_conv.py:107: UserWarning: Do not pass an `input_shape`/`input_dim` argument to a layer. When using Sequential models, prefer using an `Input(shape)` object as the first layer in the model instead.\n",
      "  super().__init__(activity_regularizer=activity_regularizer, **kwargs)\n",
      "/home/parkmyungheon/anaconda3/envs/Keras/lib/python3.11/site-packages/keras/src/layers/convolutional/base_conv.py:107: UserWarning: Do not pass an `input_shape`/`input_dim` argument to a layer. When using Sequential models, prefer using an `Input(shape)` object as the first layer in the model instead.\n",
      "  super().__init__(activity_regularizer=activity_regularizer, **kwargs)\n",
      "/home/parkmyungheon/anaconda3/envs/Keras/lib/python3.11/site-packages/keras/src/layers/convolutional/base_conv.py:107: UserWarning: Do not pass an `input_shape`/`input_dim` argument to a layer. When using Sequential models, prefer using an `Input(shape)` object as the first layer in the model instead.\n",
      "  super().__init__(activity_regularizer=activity_regularizer, **kwargs)\n",
      "/home/parkmyungheon/anaconda3/envs/Keras/lib/python3.11/site-packages/keras/src/layers/convolutional/base_conv.py:107: UserWarning: Do not pass an `input_shape`/`input_dim` argument to a layer. When using Sequential models, prefer using an `Input(shape)` object as the first layer in the model instead.\n",
      "  super().__init__(activity_regularizer=activity_regularizer, **kwargs)\n",
      "/home/parkmyungheon/anaconda3/envs/Keras/lib/python3.11/site-packages/keras/src/layers/convolutional/base_conv.py:107: UserWarning: Do not pass an `input_shape`/`input_dim` argument to a layer. When using Sequential models, prefer using an `Input(shape)` object as the first layer in the model instead.\n",
      "  super().__init__(activity_regularizer=activity_regularizer, **kwargs)\n"
     ]
    },
    {
     "name": "stdout",
     "output_type": "stream",
     "text": [
      "Dataset/pizza_raw_32.npz\n",
      "[0.92175573 0.93579148 0.83534647 0.87730451 0.91163382]\n",
      "[0.7715736  0.70229008 0.72773537 0.69720102 0.73791349]\n",
      "[0.93561104 0.99281609 0.75581395 0.84356895 0.86719637]\n",
      "[0.79888268 0.7615894  0.66300366 0.66810345 0.69262295]\n",
      "[0.90585242 0.87801779 0.99110546 0.92620865 0.97201018]\n",
      "[0.72588832 0.58673469 0.92346939 0.78680203 0.85786802]\n",
      "[18.73720932 18.60492229 18.92166805 18.81238031 19.15651059]\n",
      "[0.15422082 0.17640352 0.15357661 0.15288091 0.16455269]\n"
     ]
    },
    {
     "name": "stderr",
     "output_type": "stream",
     "text": [
      "/home/parkmyungheon/anaconda3/envs/Keras/lib/python3.11/site-packages/keras/src/layers/convolutional/base_conv.py:107: UserWarning: Do not pass an `input_shape`/`input_dim` argument to a layer. When using Sequential models, prefer using an `Input(shape)` object as the first layer in the model instead.\n",
      "  super().__init__(activity_regularizer=activity_regularizer, **kwargs)\n",
      "/home/parkmyungheon/anaconda3/envs/Keras/lib/python3.11/site-packages/keras/src/layers/convolutional/base_conv.py:107: UserWarning: Do not pass an `input_shape`/`input_dim` argument to a layer. When using Sequential models, prefer using an `Input(shape)` object as the first layer in the model instead.\n",
      "  super().__init__(activity_regularizer=activity_regularizer, **kwargs)\n",
      "/home/parkmyungheon/anaconda3/envs/Keras/lib/python3.11/site-packages/keras/src/layers/convolutional/base_conv.py:107: UserWarning: Do not pass an `input_shape`/`input_dim` argument to a layer. When using Sequential models, prefer using an `Input(shape)` object as the first layer in the model instead.\n",
      "  super().__init__(activity_regularizer=activity_regularizer, **kwargs)\n",
      "/home/parkmyungheon/anaconda3/envs/Keras/lib/python3.11/site-packages/keras/src/layers/convolutional/base_conv.py:107: UserWarning: Do not pass an `input_shape`/`input_dim` argument to a layer. When using Sequential models, prefer using an `Input(shape)` object as the first layer in the model instead.\n",
      "  super().__init__(activity_regularizer=activity_regularizer, **kwargs)\n",
      "/home/parkmyungheon/anaconda3/envs/Keras/lib/python3.11/site-packages/keras/src/layers/convolutional/base_conv.py:107: UserWarning: Do not pass an `input_shape`/`input_dim` argument to a layer. When using Sequential models, prefer using an `Input(shape)` object as the first layer in the model instead.\n",
      "  super().__init__(activity_regularizer=activity_regularizer, **kwargs)\n"
     ]
    },
    {
     "name": "stdout",
     "output_type": "stream",
     "text": [
      "Dataset/corals.npz\n",
      "[0.98102981 0.8902439  0.91598916 0.89580514 0.79837618]\n",
      "[0.59459459 0.59459459 0.60540541 0.64673913 0.625     ]\n",
      "[0.97948718 0.86288416 0.92670157 0.90180879 0.74044266]\n",
      "[0.61458333 0.59482759 0.62244898 0.66       0.60447761]\n",
      "[0.98453608 0.94072165 0.91237113 0.89948454 0.94845361]\n",
      "[0.60824742 0.71134021 0.62886598 0.68041237 0.83505155]\n",
      "[9.53719306 9.43466949 9.35602498 9.36977506 9.33894038]\n",
      "[0.12814879 0.1256485  0.12341833 0.12417054 0.12293673]\n"
     ]
    },
    {
     "name": "stderr",
     "output_type": "stream",
     "text": [
      "/home/parkmyungheon/anaconda3/envs/Keras/lib/python3.11/site-packages/keras/src/layers/convolutional/base_conv.py:107: UserWarning: Do not pass an `input_shape`/`input_dim` argument to a layer. When using Sequential models, prefer using an `Input(shape)` object as the first layer in the model instead.\n",
      "  super().__init__(activity_regularizer=activity_regularizer, **kwargs)\n",
      "/home/parkmyungheon/anaconda3/envs/Keras/lib/python3.11/site-packages/keras/src/layers/convolutional/base_conv.py:107: UserWarning: Do not pass an `input_shape`/`input_dim` argument to a layer. When using Sequential models, prefer using an `Input(shape)` object as the first layer in the model instead.\n",
      "  super().__init__(activity_regularizer=activity_regularizer, **kwargs)\n",
      "/home/parkmyungheon/anaconda3/envs/Keras/lib/python3.11/site-packages/keras/src/layers/convolutional/base_conv.py:107: UserWarning: Do not pass an `input_shape`/`input_dim` argument to a layer. When using Sequential models, prefer using an `Input(shape)` object as the first layer in the model instead.\n",
      "  super().__init__(activity_regularizer=activity_regularizer, **kwargs)\n",
      "/home/parkmyungheon/anaconda3/envs/Keras/lib/python3.11/site-packages/keras/src/layers/convolutional/base_conv.py:107: UserWarning: Do not pass an `input_shape`/`input_dim` argument to a layer. When using Sequential models, prefer using an `Input(shape)` object as the first layer in the model instead.\n",
      "  super().__init__(activity_regularizer=activity_regularizer, **kwargs)\n",
      "/home/parkmyungheon/anaconda3/envs/Keras/lib/python3.11/site-packages/keras/src/layers/convolutional/base_conv.py:107: UserWarning: Do not pass an `input_shape`/`input_dim` argument to a layer. When using Sequential models, prefer using an `Input(shape)` object as the first layer in the model instead.\n",
      "  super().__init__(activity_regularizer=activity_regularizer, **kwargs)\n"
     ]
    },
    {
     "name": "stdout",
     "output_type": "stream",
     "text": [
      "Dataset/eggs.npz\n",
      "[0.91653543 0.8992126  0.91496063 0.91181102 0.93081761]\n",
      "[0.83647799 0.81132075 0.87421384 0.8490566  0.87341772]\n",
      "[0.92336449 0.925      0.91528545 0.93762183 0.94252874]\n",
      "[0.86764706 0.88709677 0.8962963  0.88148148 0.88970588]\n",
      "[0.97628458 0.95059289 0.98415842 0.95247525 0.97233202]\n",
      "[0.93650794 0.87301587 0.95275591 0.93700787 0.96031746]\n",
      "[8.17375875 8.0784061  8.5738039  8.14954329 8.28915787]\n",
      "[0.12007904 0.12319756 0.12404823 0.11994553 0.12092972]\n"
     ]
    },
    {
     "name": "stderr",
     "output_type": "stream",
     "text": [
      "/home/parkmyungheon/anaconda3/envs/Keras/lib/python3.11/site-packages/keras/src/layers/convolutional/base_conv.py:107: UserWarning: Do not pass an `input_shape`/`input_dim` argument to a layer. When using Sequential models, prefer using an `Input(shape)` object as the first layer in the model instead.\n",
      "  super().__init__(activity_regularizer=activity_regularizer, **kwargs)\n",
      "/home/parkmyungheon/anaconda3/envs/Keras/lib/python3.11/site-packages/keras/src/layers/convolutional/base_conv.py:107: UserWarning: Do not pass an `input_shape`/`input_dim` argument to a layer. When using Sequential models, prefer using an `Input(shape)` object as the first layer in the model instead.\n",
      "  super().__init__(activity_regularizer=activity_regularizer, **kwargs)\n",
      "/home/parkmyungheon/anaconda3/envs/Keras/lib/python3.11/site-packages/keras/src/layers/convolutional/base_conv.py:107: UserWarning: Do not pass an `input_shape`/`input_dim` argument to a layer. When using Sequential models, prefer using an `Input(shape)` object as the first layer in the model instead.\n",
      "  super().__init__(activity_regularizer=activity_regularizer, **kwargs)\n",
      "/home/parkmyungheon/anaconda3/envs/Keras/lib/python3.11/site-packages/keras/src/layers/convolutional/base_conv.py:107: UserWarning: Do not pass an `input_shape`/`input_dim` argument to a layer. When using Sequential models, prefer using an `Input(shape)` object as the first layer in the model instead.\n",
      "  super().__init__(activity_regularizer=activity_regularizer, **kwargs)\n",
      "/home/parkmyungheon/anaconda3/envs/Keras/lib/python3.11/site-packages/keras/src/layers/convolutional/base_conv.py:107: UserWarning: Do not pass an `input_shape`/`input_dim` argument to a layer. When using Sequential models, prefer using an `Input(shape)` object as the first layer in the model instead.\n",
      "  super().__init__(activity_regularizer=activity_regularizer, **kwargs)\n"
     ]
    },
    {
     "name": "stdout",
     "output_type": "stream",
     "text": [
      "Dataset/xray.npz\n",
      "[0.99231426 0.96115261 0.98399146 0.98890075 0.99039488]\n",
      "[0.95221843 0.94961571 0.95046968 0.95559351 0.95388557]\n",
      "[0.98986095 0.95019477 0.98859982 0.98782961 0.98898551]\n",
      "[0.95449374 0.94026549 0.97384067 0.96091954 0.95351474]\n",
      "[0.99970743 0.99912229 0.98946752 0.99707517 0.99795262]\n",
      "[0.98128655 0.99415205 0.95789474 0.97892272 0.98477752]\n",
      "[54.56553841 54.17141271 54.73359704 53.96796131 54.91654301]\n",
      "[0.27916455 0.28050375 0.26810408 0.26918387 0.27316976]\n"
     ]
    },
    {
     "name": "stderr",
     "output_type": "stream",
     "text": [
      "/home/parkmyungheon/anaconda3/envs/Keras/lib/python3.11/site-packages/keras/src/layers/convolutional/base_conv.py:107: UserWarning: Do not pass an `input_shape`/`input_dim` argument to a layer. When using Sequential models, prefer using an `Input(shape)` object as the first layer in the model instead.\n",
      "  super().__init__(activity_regularizer=activity_regularizer, **kwargs)\n",
      "/home/parkmyungheon/anaconda3/envs/Keras/lib/python3.11/site-packages/keras/src/layers/convolutional/base_conv.py:107: UserWarning: Do not pass an `input_shape`/`input_dim` argument to a layer. When using Sequential models, prefer using an `Input(shape)` object as the first layer in the model instead.\n",
      "  super().__init__(activity_regularizer=activity_regularizer, **kwargs)\n"
     ]
    },
    {
     "name": "stdout",
     "output_type": "stream",
     "text": [
      "WARNING:tensorflow:5 out of the last 81 calls to <function TensorFlowTrainer.make_predict_function.<locals>.one_step_on_data_distributed at 0x724c4e7c2a20> triggered tf.function retracing. Tracing is expensive and the excessive number of tracings could be due to (1) creating @tf.function repeatedly in a loop, (2) passing tensors with different shapes, (3) passing Python objects instead of tensors. For (1), please define your @tf.function outside of the loop. For (2), @tf.function has reduce_retracing=True option that can avoid unnecessary retracing. For (3), please refer to https://www.tensorflow.org/guide/function#controlling_retracing and https://www.tensorflow.org/api_docs/python/tf/function for  more details.\n"
     ]
    },
    {
     "name": "stderr",
     "output_type": "stream",
     "text": [
      "/home/parkmyungheon/anaconda3/envs/Keras/lib/python3.11/site-packages/keras/src/layers/convolutional/base_conv.py:107: UserWarning: Do not pass an `input_shape`/`input_dim` argument to a layer. When using Sequential models, prefer using an `Input(shape)` object as the first layer in the model instead.\n",
      "  super().__init__(activity_regularizer=activity_regularizer, **kwargs)\n"
     ]
    },
    {
     "name": "stdout",
     "output_type": "stream",
     "text": [
      "WARNING:tensorflow:6 out of the last 84 calls to <function TensorFlowTrainer.make_predict_function.<locals>.one_step_on_data_distributed at 0x724c4e899760> triggered tf.function retracing. Tracing is expensive and the excessive number of tracings could be due to (1) creating @tf.function repeatedly in a loop, (2) passing tensors with different shapes, (3) passing Python objects instead of tensors. For (1), please define your @tf.function outside of the loop. For (2), @tf.function has reduce_retracing=True option that can avoid unnecessary retracing. For (3), please refer to https://www.tensorflow.org/guide/function#controlling_retracing and https://www.tensorflow.org/api_docs/python/tf/function for  more details.\n"
     ]
    },
    {
     "name": "stderr",
     "output_type": "stream",
     "text": [
      "/home/parkmyungheon/anaconda3/envs/Keras/lib/python3.11/site-packages/keras/src/layers/convolutional/base_conv.py:107: UserWarning: Do not pass an `input_shape`/`input_dim` argument to a layer. When using Sequential models, prefer using an `Input(shape)` object as the first layer in the model instead.\n",
      "  super().__init__(activity_regularizer=activity_regularizer, **kwargs)\n",
      "/home/parkmyungheon/anaconda3/envs/Keras/lib/python3.11/site-packages/keras/src/layers/convolutional/base_conv.py:107: UserWarning: Do not pass an `input_shape`/`input_dim` argument to a layer. When using Sequential models, prefer using an `Input(shape)` object as the first layer in the model instead.\n",
      "  super().__init__(activity_regularizer=activity_regularizer, **kwargs)\n"
     ]
    },
    {
     "name": "stdout",
     "output_type": "stream",
     "text": [
      "Dataset/covid.npz\n",
      "[0.99447514 1.         1.         0.99450549 0.99450549]\n",
      "[0.95652174 0.97826087 0.97777778 0.97777778 1.        ]\n",
      "[0.98630137 1.         1.         1.         1.        ]\n",
      "[0.9        0.94736842 0.94736842 1.         1.        ]\n",
      "[1.         1.         1.         0.98611111 0.98611111]\n",
      "[1.         1.         1.         0.94444444 1.        ]\n",
      "[3.1301775  3.58663201 3.14868474 3.16182923 3.17949271]\n",
      "[0.07051206 0.07598424 0.07217169 0.06921387 0.06945086]\n"
     ]
    }
   ],
   "source": [
    "for dataset, _ in datasets:\n",
    "    nn_cv(dataset)"
   ]
  },
  {
   "cell_type": "code",
   "execution_count": 15,
   "id": "d6fb3b44-2c65-4da7-bcf9-c74e64c3f48c",
   "metadata": {},
   "outputs": [],
   "source": [
    "def rf_cv(directory):\n",
    "    kf = StratifiedKFold(n_splits=5, shuffle=True, random_state=seed)\n",
    "    clf = RandomForestClassifier(random_state=seed)\n",
    "    X, y = get_dataset(directory)\n",
    "    results = cross_validate(clf, X.reshape(X.shape[0], -1), y, scoring=['accuracy', 'precision', 'recall'], cv=kf, return_train_score=True)\n",
    "    print(directory)\n",
    "    print(results['train_accuracy'])\n",
    "    print(results['test_accuracy'])\n",
    "    print(results['train_precision'])\n",
    "    print(results['test_precision'])\n",
    "    print(results['train_recall'])\n",
    "    print(results['test_recall'])\n",
    "    print(results['fit_time'])\n",
    "    print(results['score_time'])"
   ]
  },
  {
   "cell_type": "code",
   "execution_count": 16,
   "id": "c4768b39-e0b2-418c-b7b2-935cabdfbedc",
   "metadata": {},
   "outputs": [
    {
     "name": "stdout",
     "output_type": "stream",
     "text": [
      "Dataset/car_bike_raw.npz\n",
      "[1. 1. 1. 1. 1.]\n",
      "[0.8125  0.8125  0.80875 0.83125 0.8225 ]\n",
      "[1. 1. 1. 1. 1.]\n",
      "[0.84530387 0.8342246  0.82077922 0.84415584 0.83247423]\n",
      "[1. 1. 1. 1. 1.]\n",
      "[0.765  0.78   0.79   0.8125 0.8075]\n",
      "[5.52658916 5.36542726 5.36672902 5.42429924 5.38562894]\n",
      "[0.01619267 0.01611876 0.01568985 0.0157516  0.01523423]\n",
      "Dataset/cifar10_2_500.npz\n",
      "[1. 1. 1. 1. 1.]\n",
      "[0.805 0.78  0.83  0.825 0.855]\n",
      "[1. 1. 1. 1. 1.]\n",
      "[0.79047619 0.75       0.81730769 0.77310924 0.82568807]\n",
      "[1. 1. 1. 1. 1.]\n",
      "[0.83 0.84 0.85 0.92 0.9 ]\n",
      "[1.06340861 1.08918571 1.08197951 1.06695867 1.04970551]\n",
      "[0.00843263 0.00844359 0.00863981 0.0080483  0.00792575]\n",
      "Dataset/pizza_raw_32.npz\n",
      "[1. 1. 1. 1. 1.]\n",
      "[0.63959391 0.66666667 0.66666667 0.6692112  0.63613232]\n",
      "[1. 1. 1. 1. 1.]\n",
      "[0.64705882 0.66666667 0.67567568 0.66834171 0.64673913]\n",
      "[1. 1. 1. 1. 1.]\n",
      "[0.6142132  0.66326531 0.6377551  0.6751269  0.60406091]\n",
      "[2.73352146 2.80839634 2.74456286 2.75859356 2.59468985]\n",
      "[0.01068115 0.01060915 0.01100707 0.01063395 0.01087046]\n",
      "Dataset/corals.npz\n",
      "[0.99051491 0.99322493 0.99051491 0.99052774 0.99458728]\n",
      "[0.67027027 0.59459459 0.63243243 0.625      0.72826087]\n",
      "[0.98971722 0.99483204 0.99480519 0.99224806 0.99484536]\n",
      "[0.66071429 0.6122449  0.64948454 0.62727273 0.74736842]\n",
      "[0.99226804 0.99226804 0.9871134  0.98969072 0.99484536]\n",
      "[0.7628866  0.6185567  0.64948454 0.71134021 0.73195876]\n",
      "[1.04137778 1.03009486 1.01684546 1.01939893 1.01278305]\n",
      "[0.00801134 0.0079565  0.00805473 0.00795031 0.0087533 ]\n",
      "Dataset/eggs.npz\n",
      "[0.9984252  1.         0.9984252  0.99685039 0.99685535]\n",
      "[0.77358491 0.81761006 0.88679245 0.81132075 0.84810127]\n",
      "[0.99802761 1.         0.99802372 0.99605523 0.99802372]\n",
      "[0.8125     0.83916084 0.88111888 0.83448276 0.84931507]\n",
      "[1.         1.         1.         1.         0.99802372]\n",
      "[0.92857143 0.95238095 0.99212598 0.95275591 0.98412698]\n",
      "[1.11895609 1.05028367 1.02275038 1.07744336 1.03627658]\n",
      "[0.00780869 0.00756741 0.00746822 0.00752258 0.00747609]\n",
      "Dataset/xray.npz\n",
      "[1. 1. 1. 1. 1.]\n",
      "[0.94283276 0.93936806 0.94790777 0.94449189 0.93253629]\n",
      "[1. 1. 1. 1. 1.]\n",
      "[0.94977169 0.94851259 0.95319635 0.94982896 0.93686584]\n",
      "[1. 1. 1. 1. 1.]\n",
      "[0.97309942 0.96959064 0.97660819 0.97540984 0.97306792]\n",
      "[6.40441155 6.42787242 6.33734536 6.19963479 6.13855815]\n",
      "[0.01698065 0.01638079 0.01644945 0.01649427 0.01614881]\n",
      "Dataset/covid.npz\n",
      "[1. 1. 1. 1. 1.]\n",
      "[0.95652174 0.95652174 1.         0.97777778 0.97777778]\n",
      "[1. 1. 1. 1. 1.]\n",
      "[0.9        0.94444444 1.         1.         1.        ]\n",
      "[1. 1. 1. 1. 1.]\n",
      "[1.         0.94444444 1.         0.94444444 0.94444444]\n",
      "[0.12829924 0.12782645 0.13652158 0.13344097 0.13164258]\n",
      "[0.00604105 0.00634313 0.00670624 0.00665784 0.00610304]\n"
     ]
    }
   ],
   "source": [
    "for dataset, _ in datasets:\n",
    "    rf_cv(dataset)"
   ]
  },
  {
   "cell_type": "code",
   "execution_count": 17,
   "id": "49377e48-c35e-4868-a029-77dc2f84ff21",
   "metadata": {},
   "outputs": [],
   "source": [
    "def svm_cv(directory):\n",
    "    kf = StratifiedKFold(n_splits=5, shuffle=True, random_state=seed)\n",
    "    clf = SVC(random_state=seed)\n",
    "    X, y = get_dataset(directory)\n",
    "    results = cross_validate(clf, X.reshape(X.shape[0], -1), y, scoring=['accuracy', 'precision', 'recall'], cv=kf, return_train_score=True)\n",
    "    print(directory)\n",
    "    print(results['train_accuracy'])\n",
    "    print(results['test_accuracy'])\n",
    "    print(results['train_precision'])\n",
    "    print(results['test_precision'])\n",
    "    print(results['train_recall'])\n",
    "    print(results['test_recall'])\n",
    "    print(results['fit_time'])\n",
    "    print(results['score_time'])"
   ]
  },
  {
   "cell_type": "code",
   "execution_count": 18,
   "id": "fb024d34-f9e8-4f6b-8643-b41f93a16669",
   "metadata": {},
   "outputs": [
    {
     "name": "stdout",
     "output_type": "stream",
     "text": [
      "Dataset/car_bike_raw.npz\n",
      "[0.9215625 0.9209375 0.9240625 0.925     0.9203125]\n",
      "[0.805   0.82375 0.8175  0.81875 0.82   ]\n",
      "[0.91920447 0.91858297 0.91960421 0.92288557 0.91181874]\n",
      "[0.81282051 0.82294264 0.82070707 0.82442748 0.80331754]\n",
      "[0.924375 0.92375  0.929375 0.9275   0.930625]\n",
      "[0.7925 0.825  0.8125 0.81   0.8475]\n",
      "[2.42605352 2.39635849 2.38328385 2.39845538 2.39612126]\n",
      "[0.82994509 0.80815697 0.82573986 0.84168339 0.81868529]\n",
      "Dataset/cifar10_2_500.npz\n",
      "[0.93125 0.93375 0.9375  0.935   0.9375 ]\n",
      "[0.785 0.78  0.815 0.81  0.855]\n",
      "[0.90973872 0.91211401 0.91273585 0.92028986 0.91666667]\n",
      "[0.77142857 0.74137931 0.82474227 0.76271186 0.8317757 ]\n",
      "[0.9575 0.96   0.9675 0.9525 0.9625]\n",
      "[0.81 0.86 0.8  0.9  0.89]\n",
      "[0.07622099 0.07469702 0.07737947 0.07600284 0.07727265]\n",
      "[0.03808951 0.03701735 0.03782439 0.03735328 0.03949332]\n",
      "Dataset/pizza_raw_32.npz\n",
      "[0.89185751 0.89383344 0.89574062 0.90336936 0.89637635]\n",
      "[0.65482234 0.68447837 0.69465649 0.69211196 0.63613232]\n",
      "[0.93258427 0.9454023  0.943101   0.94027778 0.93324061]\n",
      "[0.68711656 0.70689655 0.7183908  0.72093023 0.65340909]\n",
      "[0.84478372 0.8360864  0.84243964 0.86132316 0.85368957]\n",
      "[0.56852792 0.62755102 0.6377551  0.62944162 0.58375635]\n",
      "[0.50319076 0.44119787 0.41728139 0.41418266 0.43020797]\n",
      "[0.18996358 0.18276668 0.17706633 0.17788768 0.18123198]\n",
      "Dataset/corals.npz\n",
      "[0.89295393 0.90379404 0.89566396 0.89309878 0.89445196]\n",
      "[0.71351351 0.62162162 0.62702703 0.63043478 0.70652174]\n",
      "[0.90765172 0.91168831 0.90600522 0.912      0.91005291]\n",
      "[0.71568627 0.64210526 0.64       0.6407767  0.72631579]\n",
      "[0.88659794 0.90463918 0.8943299  0.8814433  0.88659794]\n",
      "[0.75257732 0.62886598 0.65979381 0.68041237 0.71134021]\n",
      "[0.08548617 0.08697748 0.0856142  0.08379507 0.08758688]\n",
      "[0.04394555 0.04373717 0.04316211 0.04457641 0.04522085]\n",
      "Dataset/eggs.npz\n",
      "[0.93543307 0.93543307 0.90551181 0.92125984 0.9245283 ]\n",
      "[0.81132075 0.83018868 0.8490566  0.81132075 0.82911392]\n",
      "[0.9266055  0.9250457  0.89380531 0.91139241 0.91485507]\n",
      "[0.82       0.82352941 0.8410596  0.81290323 0.82781457]\n",
      "[0.99802372 1.         1.         0.9980198  0.99802372]\n",
      "[0.97619048 1.         1.         0.99212598 0.99206349]\n",
      "[0.04443789 0.04592991 0.04749656 0.04642129 0.04543638]\n",
      "[0.02201962 0.02321005 0.0236218  0.02267075 0.02167583]\n",
      "Dataset/xray.npz\n",
      "[0.96690863 0.96307364 0.96542156 0.96627535 0.96670224]\n",
      "[0.94880546 0.95815542 0.94534586 0.94961571 0.94363792]\n",
      "[0.97085137 0.96960926 0.97024841 0.97137901 0.97030845]\n",
      "[0.95847751 0.96535797 0.95512083 0.95637199 0.94977169]\n",
      "[0.98420129 0.98010532 0.98273844 0.98274349 0.98449839]\n",
      "[0.97192982 0.97777778 0.97076023 0.97540984 0.97423888]\n",
      "[1.8694737  1.90782213 1.89169049 1.85993648 1.86070704]\n",
      "[0.41093826 0.42582178 0.42575526 0.41747022 0.42360139]\n",
      "Dataset/covid.npz\n",
      "[0.99447514 0.99447514 0.98351648 0.98901099 0.99450549]\n",
      "[0.93478261 0.91304348 0.97777778 0.97777778 1.        ]\n",
      "[0.98630137 0.98630137 0.97260274 0.98611111 0.98630137]\n",
      "[0.85714286 0.85       0.94736842 1.         1.        ]\n",
      "[1.         1.         0.98611111 0.98611111 1.        ]\n",
      "[1.         0.94444444 1.         0.94444444 1.        ]\n",
      "[0.00360489 0.00307941 0.00311685 0.00326133 0.00321651]\n",
      "[0.00323486 0.00306821 0.00307465 0.00309587 0.00304842]\n"
     ]
    }
   ],
   "source": [
    "for dataset, _ in datasets:\n",
    "    svm_cv(dataset)"
   ]
  },
  {
   "cell_type": "code",
   "execution_count": 19,
   "id": "37f7df9e-7cfd-466c-8d99-28bd7c1ca6d4",
   "metadata": {},
   "outputs": [],
   "source": [
    "def embedding_rf(directory):\n",
    "    X, y = get_dataset(directory)\n",
    "    kf = StratifiedKFold(n_splits=5, shuffle=True, random_state=seed)\n",
    "\n",
    "    feature_extractor = tf.keras.Sequential([\n",
    "        layers.Conv2D(100, (3, 3), activation='relu', input_shape=(32, 32, 1)),\n",
    "        layers.MaxPooling2D((2, 2)),\n",
    "        layers.Flatten(),\n",
    "    ])\n",
    "    \n",
    "    train_accs = []\n",
    "    test_accs = []\n",
    "\n",
    "    train_prec = []\n",
    "    test_prec = []\n",
    "\n",
    "    train_recall = []\n",
    "    test_recall = []\n",
    "\n",
    "    train_times = []\n",
    "    test_times = []\n",
    "\n",
    "    for i, (train_indices, test_indices) in enumerate(kf.split(X, y)):\n",
    "        X_train, X_test, y_train, y_test = X[train_indices], X[test_indices], y[train_indices], y[test_indices]\n",
    "        \n",
    "        # Start of training time\n",
    "        start_train_time = time.time()\n",
    "        train_features = feature_extractor.predict(X_train, verbose=0)\n",
    "        clf = RandomForestClassifier(random_state=seed)\n",
    "        clf.fit(train_features, y_train)\n",
    "        pred_train = clf.predict(train_features)\n",
    "        end_train_time = time.time()\n",
    "        train_time = end_train_time - start_train_time\n",
    "        train_times.append(train_time)\n",
    "        # End of training, beginning of evaluation/test time\n",
    "        \n",
    "        start_test_time = time.time()\n",
    "        test_features = feature_extractor.predict(X_test, verbose=0)\n",
    "        pred_test = clf.predict(test_features)\n",
    "        end_test_time = time.time()\n",
    "        test_time = end_test_time - start_test_time\n",
    "        # End of test time\n",
    "        test_times.append(test_time)\n",
    "\n",
    "        train_accs.append(accuracy_score(y_train, pred_train))\n",
    "        test_accs.append(accuracy_score(y_test, pred_test))\n",
    "\n",
    "        train_prec.append(precision_score(y_train, pred_train))\n",
    "        test_prec.append(precision_score(y_test, pred_test))\n",
    "\n",
    "        train_recall.append(recall_score(y_train, pred_train))\n",
    "        test_recall.append(recall_score(y_test, pred_test))\n",
    "\n",
    "    print(\"Train Accuracies: \" + str(train_accs))\n",
    "    print(\"Test Accuracies: \" + str(test_accs))\n",
    "    print(\"Train Precisions: \" + str(train_prec))\n",
    "    print(\"Test Precisions: \" + str(test_prec))\n",
    "    print(\"Train Recalls: \" + str(train_recall))\n",
    "    print(\"Test Recalls: \" + str(test_recall))\n",
    "    print(\"Train Times: \" + str(train_times))\n",
    "    print(\"Test Times: \" + str(test_times))\n",
    "    \n",
    "    return train_accs, test_accs, train_prec, test_prec, train_recall, test_recall, train_times, test_times"
   ]
  },
  {
   "cell_type": "code",
   "execution_count": 20,
   "id": "b281df98-5c40-4f64-b38d-02a51af6397a",
   "metadata": {},
   "outputs": [
    {
     "name": "stderr",
     "output_type": "stream",
     "text": [
      "/home/parkmyungheon/anaconda3/envs/Keras/lib/python3.11/site-packages/keras/src/layers/convolutional/base_conv.py:107: UserWarning: Do not pass an `input_shape`/`input_dim` argument to a layer. When using Sequential models, prefer using an `Input(shape)` object as the first layer in the model instead.\n",
      "  super().__init__(activity_regularizer=activity_regularizer, **kwargs)\n"
     ]
    },
    {
     "name": "stdout",
     "output_type": "stream",
     "text": [
      "Train Accuracies: [1.0, 1.0, 1.0, 1.0, 1.0]\n",
      "Test Accuracies: [0.85125, 0.8675, 0.84875, 0.87, 0.86375]\n",
      "Train Precisions: [1.0, 1.0, 1.0, 1.0, 1.0]\n",
      "Test Precisions: [0.8746666666666667, 0.8712121212121212, 0.8661417322834646, 0.8814432989690721, 0.875968992248062]\n",
      "Train Recalls: [1.0, 1.0, 1.0, 1.0, 1.0]\n",
      "Test Recalls: [0.82, 0.8625, 0.825, 0.855, 0.8475]\n",
      "Train Times: [20.90194082260132, 20.98516345024109, 21.023071765899658, 20.713107109069824, 20.86342763900757]\n",
      "Test Times: [0.2371227741241455, 0.2581017017364502, 0.21907496452331543, 0.21593379974365234, 0.22736501693725586]\n"
     ]
    },
    {
     "name": "stderr",
     "output_type": "stream",
     "text": [
      "/home/parkmyungheon/anaconda3/envs/Keras/lib/python3.11/site-packages/keras/src/layers/convolutional/base_conv.py:107: UserWarning: Do not pass an `input_shape`/`input_dim` argument to a layer. When using Sequential models, prefer using an `Input(shape)` object as the first layer in the model instead.\n",
      "  super().__init__(activity_regularizer=activity_regularizer, **kwargs)\n"
     ]
    },
    {
     "name": "stdout",
     "output_type": "stream",
     "text": [
      "Train Accuracies: [1.0, 1.0, 1.0, 1.0, 1.0]\n",
      "Test Accuracies: [0.865, 0.805, 0.825, 0.865, 0.895]\n",
      "Train Precisions: [1.0, 1.0, 1.0, 1.0, 1.0]\n",
      "Test Precisions: [0.8613861386138614, 0.7699115044247787, 0.8037383177570093, 0.811965811965812, 0.898989898989899]\n",
      "Train Recalls: [1.0, 1.0, 1.0, 1.0, 1.0]\n",
      "Test Recalls: [0.87, 0.87, 0.86, 0.95, 0.89]\n",
      "Train Times: [3.7263596057891846, 3.6614792346954346, 3.6954641342163086, 3.739593505859375, 3.6081812381744385]\n",
      "Test Times: [0.0906522274017334, 0.07952094078063965, 0.08064770698547363, 0.07780051231384277, 0.07779741287231445]\n"
     ]
    },
    {
     "name": "stderr",
     "output_type": "stream",
     "text": [
      "/home/parkmyungheon/anaconda3/envs/Keras/lib/python3.11/site-packages/keras/src/layers/convolutional/base_conv.py:107: UserWarning: Do not pass an `input_shape`/`input_dim` argument to a layer. When using Sequential models, prefer using an `Input(shape)` object as the first layer in the model instead.\n",
      "  super().__init__(activity_regularizer=activity_regularizer, **kwargs)\n"
     ]
    },
    {
     "name": "stdout",
     "output_type": "stream",
     "text": [
      "Train Accuracies: [1.0, 1.0, 1.0, 1.0, 1.0]\n",
      "Test Accuracies: [0.7208121827411168, 0.7175572519083969, 0.7251908396946565, 0.7048346055979644, 0.6692111959287532]\n",
      "Train Precisions: [1.0, 1.0, 1.0, 1.0, 1.0]\n",
      "Test Precisions: [0.7351351351351352, 0.7093596059113301, 0.7244897959183674, 0.7396449704142012, 0.6892655367231638]\n",
      "Train Recalls: [1.0, 1.0, 1.0, 1.0, 1.0]\n",
      "Test Recalls: [0.6903553299492385, 0.7346938775510204, 0.7244897959183674, 0.6345177664974619, 0.6192893401015228]\n",
      "Train Times: [8.576080799102783, 8.638179540634155, 8.509258270263672, 8.372812986373901, 8.339315176010132]\n",
      "Test Times: [0.12489795684814453, 0.12600111961364746, 0.1252143383026123, 0.12340044975280762, 0.12376832962036133]\n"
     ]
    },
    {
     "name": "stderr",
     "output_type": "stream",
     "text": [
      "/home/parkmyungheon/anaconda3/envs/Keras/lib/python3.11/site-packages/keras/src/layers/convolutional/base_conv.py:107: UserWarning: Do not pass an `input_shape`/`input_dim` argument to a layer. When using Sequential models, prefer using an `Input(shape)` object as the first layer in the model instead.\n",
      "  super().__init__(activity_regularizer=activity_regularizer, **kwargs)\n"
     ]
    },
    {
     "name": "stdout",
     "output_type": "stream",
     "text": [
      "Train Accuracies: [0.9905149051490515, 0.9932249322493225, 0.9905149051490515, 0.9905277401894452, 0.9945872801082544]\n",
      "Test Accuracies: [0.6810810810810811, 0.6702702702702703, 0.5891891891891892, 0.6413043478260869, 0.6630434782608695]\n",
      "Train Precisions: [0.9948051948051948, 0.9922879177377892, 0.9948051948051948, 0.9922480620155039, 0.9948453608247423]\n",
      "Test Precisions: [0.6862745098039216, 0.6914893617021277, 0.6082474226804123, 0.6396396396396397, 0.6881720430107527]\n",
      "Train Recalls: [0.9871134020618557, 0.9948453608247423, 0.9871134020618557, 0.9896907216494846, 0.9948453608247423]\n",
      "Test Recalls: [0.7216494845360825, 0.6701030927835051, 0.6082474226804123, 0.7319587628865979, 0.6597938144329897]\n",
      "Train Times: [3.098048448562622, 3.079367160797119, 2.9781153202056885, 3.0857112407684326, 2.9271042346954346]\n",
      "Test Times: [0.07663893699645996, 0.07822299003601074, 0.07861852645874023, 0.07634878158569336, 0.07541584968566895]\n"
     ]
    },
    {
     "name": "stderr",
     "output_type": "stream",
     "text": [
      "/home/parkmyungheon/anaconda3/envs/Keras/lib/python3.11/site-packages/keras/src/layers/convolutional/base_conv.py:107: UserWarning: Do not pass an `input_shape`/`input_dim` argument to a layer. When using Sequential models, prefer using an `Input(shape)` object as the first layer in the model instead.\n",
      "  super().__init__(activity_regularizer=activity_regularizer, **kwargs)\n"
     ]
    },
    {
     "name": "stdout",
     "output_type": "stream",
     "text": [
      "Train Accuracies: [0.9984251968503937, 1.0, 0.9984251968503937, 0.9968503937007874, 0.9968553459119497]\n",
      "Test Accuracies: [0.779874213836478, 0.8364779874213837, 0.8238993710691824, 0.8113207547169812, 0.8481012658227848]\n",
      "Train Precisions: [0.9980276134122288, 1.0, 0.9980237154150198, 0.9960552268244576, 0.9980237154150198]\n",
      "Test Precisions: [0.8137931034482758, 0.8571428571428571, 0.8278145695364238, 0.8299319727891157, 0.8445945945945946]\n",
      "Train Recalls: [1.0, 1.0, 1.0, 1.0, 0.9980237154150198]\n",
      "Test Recalls: [0.9365079365079365, 0.9523809523809523, 0.984251968503937, 0.9606299212598425, 0.9920634920634921]\n",
      "Train Times: [3.8070507049560547, 3.5516347885131836, 3.66693115234375, 3.874662399291992, 3.6080830097198486]\n",
      "Test Times: [0.07114410400390625, 0.0697786808013916, 0.06794857978820801, 0.06711149215698242, 0.06752872467041016]\n"
     ]
    },
    {
     "name": "stderr",
     "output_type": "stream",
     "text": [
      "/home/parkmyungheon/anaconda3/envs/Keras/lib/python3.11/site-packages/keras/src/layers/convolutional/base_conv.py:107: UserWarning: Do not pass an `input_shape`/`input_dim` argument to a layer. When using Sequential models, prefer using an `Input(shape)` object as the first layer in the model instead.\n",
      "  super().__init__(activity_regularizer=activity_regularizer, **kwargs)\n"
     ]
    },
    {
     "name": "stdout",
     "output_type": "stream",
     "text": [
      "Train Accuracies: [1.0, 1.0, 1.0, 1.0, 1.0]\n",
      "Test Accuracies: [0.9377133105802048, 0.9436379163108455, 0.9453458582408198, 0.9496157130657558, 0.9299743808710503]\n",
      "Train Precisions: [1.0, 1.0, 1.0, 1.0, 1.0]\n",
      "Test Precisions: [0.9473684210526315, 0.9477866061293984, 0.9561707035755479, 0.9595375722543352, 0.9356659142212189]\n",
      "Train Recalls: [1.0, 1.0, 1.0, 1.0, 1.0]\n",
      "Test Recalls: [0.968421052631579, 0.9766081871345029, 0.9695906432748538, 0.9718969555035128, 0.9707259953161592]\n",
      "Train Times: [41.06705284118652, 43.825302600860596, 42.66103982925415, 42.92843437194824, 42.2479190826416]\n",
      "Test Times: [0.3173487186431885, 0.314162015914917, 0.3044731616973877, 0.31594419479370117, 0.3095574378967285]\n"
     ]
    },
    {
     "name": "stderr",
     "output_type": "stream",
     "text": [
      "/home/parkmyungheon/anaconda3/envs/Keras/lib/python3.11/site-packages/keras/src/layers/convolutional/base_conv.py:107: UserWarning: Do not pass an `input_shape`/`input_dim` argument to a layer. When using Sequential models, prefer using an `Input(shape)` object as the first layer in the model instead.\n",
      "  super().__init__(activity_regularizer=activity_regularizer, **kwargs)\n"
     ]
    },
    {
     "name": "stdout",
     "output_type": "stream",
     "text": [
      "Train Accuracies: [1.0, 1.0, 1.0, 1.0, 1.0]\n",
      "Test Accuracies: [0.9130434782608695, 0.9782608695652174, 1.0, 0.9777777777777777, 0.9777777777777777]\n",
      "Train Precisions: [1.0, 1.0, 1.0, 1.0, 1.0]\n",
      "Test Precisions: [0.8181818181818182, 1.0, 1.0, 1.0, 1.0]\n",
      "Train Recalls: [1.0, 1.0, 1.0, 1.0, 1.0]\n",
      "Test Recalls: [1.0, 0.9444444444444444, 1.0, 0.9444444444444444, 0.9444444444444444]\n",
      "Train Times: [0.3679628372192383, 0.3483891487121582, 0.3499319553375244, 0.3646206855773926, 0.34339094161987305]\n",
      "Test Times: [0.047281503677368164, 0.04512143135070801, 0.044986724853515625, 0.04628467559814453, 0.04607844352722168]\n"
     ]
    }
   ],
   "source": [
    "for dataset, _ in datasets:\n",
    "    embedding_rf(dataset)"
   ]
  },
  {
   "cell_type": "code",
   "execution_count": 21,
   "id": "f25b37ac-43b1-452b-aab6-7d18549fe506",
   "metadata": {},
   "outputs": [],
   "source": [
    "def embedding_svm(directory):\n",
    "    X, y = get_dataset(directory)\n",
    "    kf = StratifiedKFold(n_splits=5, shuffle=True, random_state=seed)\n",
    "\n",
    "    feature_extractor = tf.keras.Sequential([\n",
    "        layers.Conv2D(100, (3, 3), activation='relu', input_shape=(32, 32, 1)),\n",
    "        layers.MaxPooling2D((2, 2)),\n",
    "        layers.Flatten(),\n",
    "    ])\n",
    "    \n",
    "    train_accs = []\n",
    "    test_accs = []\n",
    "\n",
    "    train_prec = []\n",
    "    test_prec = []\n",
    "\n",
    "    train_recall = []\n",
    "    test_recall = []\n",
    "\n",
    "    train_times = []\n",
    "    test_times = []\n",
    "\n",
    "    for i, (train_indices, test_indices) in enumerate(kf.split(X, y)):\n",
    "        X_train, X_test, y_train, y_test = X[train_indices], X[test_indices], y[train_indices], y[test_indices]\n",
    "        \n",
    "        # Start of training time\n",
    "        start_train_time = time.time()\n",
    "        train_features = feature_extractor.predict(X_train, verbose=0)\n",
    "        clf = SVC(random_state=seed)\n",
    "        clf.fit(train_features, y_train)\n",
    "        pred_train = clf.predict(train_features)\n",
    "        end_train_time = time.time()\n",
    "        train_time = end_train_time - start_train_time\n",
    "        train_times.append(train_time)\n",
    "        # End of training, beginning of evaluation/test time\n",
    "        \n",
    "        start_test_time = time.time()\n",
    "        test_features = feature_extractor.predict(X_test, verbose=0)\n",
    "        pred_test = clf.predict(test_features)\n",
    "        end_test_time = time.time()\n",
    "        test_time = end_test_time - start_test_time\n",
    "        # End of test time\n",
    "        test_times.append(test_time)\n",
    "\n",
    "        train_accs.append(accuracy_score(y_train, pred_train))\n",
    "        test_accs.append(accuracy_score(y_test, pred_test))\n",
    "\n",
    "        train_prec.append(precision_score(y_train, pred_train))\n",
    "        test_prec.append(precision_score(y_test, pred_test))\n",
    "\n",
    "        train_recall.append(recall_score(y_train, pred_train))\n",
    "        test_recall.append(recall_score(y_test, pred_test))\n",
    "\n",
    "    print(\"Train Accuracies: \" + str(train_accs))\n",
    "    print(\"Test Accuracies: \" + str(test_accs))\n",
    "    print(\"Train Precisions: \" + str(train_prec))\n",
    "    print(\"Test Precisions: \" + str(test_prec))\n",
    "    print(\"Train Recalls: \" + str(train_recall))\n",
    "    print(\"Test Recalls: \" + str(test_recall))\n",
    "    print(\"Train Times: \" + str(train_times))\n",
    "    print(\"Test Times: \" + str(test_times))\n",
    "    \n",
    "    return train_accs, test_accs, train_prec, test_prec, train_recall, test_recall, train_times, test_times"
   ]
  },
  {
   "cell_type": "code",
   "execution_count": 22,
   "id": "544faf94-4d9d-4327-a566-832add02a557",
   "metadata": {},
   "outputs": [
    {
     "name": "stderr",
     "output_type": "stream",
     "text": [
      "/home/parkmyungheon/anaconda3/envs/Keras/lib/python3.11/site-packages/keras/src/layers/convolutional/base_conv.py:107: UserWarning: Do not pass an `input_shape`/`input_dim` argument to a layer. When using Sequential models, prefer using an `Input(shape)` object as the first layer in the model instead.\n",
      "  super().__init__(activity_regularizer=activity_regularizer, **kwargs)\n"
     ]
    },
    {
     "name": "stdout",
     "output_type": "stream",
     "text": [
      "Train Accuracies: [0.9075, 0.905625, 0.9075, 0.899375, 0.905]\n",
      "Test Accuracies: [0.8625, 0.8675, 0.87125, 0.87875, 0.8775]\n",
      "Train Precisions: [0.9152866242038217, 0.9139030612244898, 0.9142312579415502, 0.9096153846153846, 0.910126582278481]\n",
      "Test Precisions: [0.868020304568528, 0.893048128342246, 0.8721804511278195, 0.8894601542416453, 0.8682926829268293]\n",
      "Train Recalls: [0.898125, 0.895625, 0.899375, 0.886875, 0.89875]\n",
      "Test Recalls: [0.855, 0.835, 0.87, 0.865, 0.89]\n",
      "Train Times: [122.91563510894775, 121.0625672340393, 122.46501278877258, 119.72188091278076, 121.49348402023315]\n",
      "Test Times: [21.62704038619995, 22.098002672195435, 22.09329581260681, 21.84291958808899, 22.461766242980957]\n"
     ]
    },
    {
     "name": "stderr",
     "output_type": "stream",
     "text": [
      "/home/parkmyungheon/anaconda3/envs/Keras/lib/python3.11/site-packages/keras/src/layers/convolutional/base_conv.py:107: UserWarning: Do not pass an `input_shape`/`input_dim` argument to a layer. When using Sequential models, prefer using an `Input(shape)` object as the first layer in the model instead.\n",
      "  super().__init__(activity_regularizer=activity_regularizer, **kwargs)\n"
     ]
    },
    {
     "name": "stdout",
     "output_type": "stream",
     "text": [
      "Train Accuracies: [0.84375, 0.8475, 0.845, 0.84, 0.8225]\n",
      "Test Accuracies: [0.81, 0.75, 0.8, 0.83, 0.825]\n",
      "Train Precisions: [0.8117913832199547, 0.8188073394495413, 0.8165137614678899, 0.8192488262910798, 0.7986111111111112]\n",
      "Test Precisions: [0.81, 0.7192982456140351, 0.7884615384615384, 0.775, 0.8155339805825242]\n",
      "Train Recalls: [0.895, 0.8925, 0.89, 0.8725, 0.8625]\n",
      "Test Recalls: [0.81, 0.82, 0.82, 0.93, 0.84]\n",
      "Train Times: [8.651260614395142, 8.950068473815918, 9.217454195022583, 9.456204891204834, 9.558130025863647]\n",
      "Test Times: [1.6458098888397217, 1.683002233505249, 1.8530967235565186, 1.7876145839691162, 1.7937114238739014]\n"
     ]
    },
    {
     "name": "stderr",
     "output_type": "stream",
     "text": [
      "/home/parkmyungheon/anaconda3/envs/Keras/lib/python3.11/site-packages/keras/src/layers/convolutional/base_conv.py:107: UserWarning: Do not pass an `input_shape`/`input_dim` argument to a layer. When using Sequential models, prefer using an `Input(shape)` object as the first layer in the model instead.\n",
      "  super().__init__(activity_regularizer=activity_regularizer, **kwargs)\n"
     ]
    },
    {
     "name": "stdout",
     "output_type": "stream",
     "text": [
      "Train Accuracies: [0.787531806615776, 0.782581055308328, 0.7914812460267006, 0.7800381436745073, 0.7851239669421488]\n",
      "Test Accuracies: [0.7055837563451777, 0.7302798982188295, 0.7251908396946565, 0.7379134860050891, 0.6819338422391857]\n",
      "Train Precisions: [0.8284883720930233, 0.8306092124814265, 0.8410104011887073, 0.8133903133903134, 0.8255813953488372]\n",
      "Test Precisions: [0.7579617834394905, 0.7647058823529411, 0.7682926829268293, 0.7764705882352941, 0.7142857142857143]\n",
      "Train Recalls: [0.7251908396946565, 0.7102922490470139, 0.7191867852604829, 0.7264631043256997, 0.72264631043257]\n",
      "Test Recalls: [0.6040609137055838, 0.6632653061224489, 0.6428571428571429, 0.6700507614213198, 0.6091370558375635]\n",
      "Train Times: [39.6759831905365, 40.212639808654785, 41.51070785522461, 39.93765306472778, 39.759843587875366]\n",
      "Test Times: [7.233294725418091, 7.298090696334839, 6.850047588348389, 7.340104818344116, 7.172684669494629]\n"
     ]
    },
    {
     "name": "stderr",
     "output_type": "stream",
     "text": [
      "/home/parkmyungheon/anaconda3/envs/Keras/lib/python3.11/site-packages/keras/src/layers/convolutional/base_conv.py:107: UserWarning: Do not pass an `input_shape`/`input_dim` argument to a layer. When using Sequential models, prefer using an `Input(shape)` object as the first layer in the model instead.\n",
      "  super().__init__(activity_regularizer=activity_regularizer, **kwargs)\n"
     ]
    },
    {
     "name": "stdout",
     "output_type": "stream",
     "text": [
      "Train Accuracies: [0.7425474254742548, 0.7411924119241192, 0.7357723577235772, 0.7239512855209743, 0.7483085250338295]\n",
      "Test Accuracies: [0.6702702702702703, 0.6162162162162163, 0.6324324324324324, 0.6521739130434783, 0.6739130434782609]\n",
      "Train Precisions: [0.776536312849162, 0.7871720116618076, 0.7765042979942693, 0.7771084337349398, 0.7700534759358288]\n",
      "Test Precisions: [0.6956521739130435, 0.6585365853658537, 0.6705882352941176, 0.6896551724137931, 0.7078651685393258]\n",
      "Train Recalls: [0.7164948453608248, 0.6958762886597938, 0.6984536082474226, 0.6649484536082474, 0.7422680412371134]\n",
      "Test Recalls: [0.6597938144329897, 0.5567010309278351, 0.5876288659793815, 0.6185567010309279, 0.6494845360824743]\n",
      "Train Times: [9.303575277328491, 9.056434154510498, 8.9516282081604, 8.519039869308472, 8.694988250732422]\n",
      "Test Times: [1.6941263675689697, 1.534087896347046, 1.5339951515197754, 1.6122868061065674, 1.6277191638946533]\n"
     ]
    },
    {
     "name": "stderr",
     "output_type": "stream",
     "text": [
      "/home/parkmyungheon/anaconda3/envs/Keras/lib/python3.11/site-packages/keras/src/layers/convolutional/base_conv.py:107: UserWarning: Do not pass an `input_shape`/`input_dim` argument to a layer. When using Sequential models, prefer using an `Input(shape)` object as the first layer in the model instead.\n",
      "  super().__init__(activity_regularizer=activity_regularizer, **kwargs)\n"
     ]
    },
    {
     "name": "stdout",
     "output_type": "stream",
     "text": [
      "Train Accuracies: [0.8110236220472441, 0.8031496062992126, 0.7968503937007874, 0.8031496062992126, 0.8034591194968553]\n",
      "Test Accuracies: [0.7987421383647799, 0.7924528301886793, 0.7987421383647799, 0.7987421383647799, 0.7974683544303798]\n",
      "Train Precisions: [0.8083067092651757, 0.8019017432646592, 0.7965299684542587, 0.8015873015873016, 0.8019017432646592]\n",
      "Test Precisions: [0.7974683544303798, 0.7924528301886793, 0.7987421383647799, 0.7987421383647799, 0.7974683544303798]\n",
      "Train Recalls: [1.0, 1.0, 1.0, 1.0, 1.0]\n",
      "Test Recalls: [1.0, 1.0, 1.0, 1.0, 1.0]\n",
      "Train Times: [4.366586923599243, 4.255768775939941, 4.61046576499939, 4.400219678878784, 4.3446455001831055]\n",
      "Test Times: [0.8214547634124756, 0.7926383018493652, 0.8672618865966797, 0.8422045707702637, 0.7689864635467529]\n"
     ]
    },
    {
     "name": "stderr",
     "output_type": "stream",
     "text": [
      "/home/parkmyungheon/anaconda3/envs/Keras/lib/python3.11/site-packages/keras/src/layers/convolutional/base_conv.py:107: UserWarning: Do not pass an `input_shape`/`input_dim` argument to a layer. When using Sequential models, prefer using an `Input(shape)` object as the first layer in the model instead.\n",
      "  super().__init__(activity_regularizer=activity_regularizer, **kwargs)\n"
     ]
    },
    {
     "name": "stdout",
     "output_type": "stream",
     "text": [
      "Train Accuracies: [0.9538855678906917, 0.9502668089647812, 0.9543223052294557, 0.9543223052294557, 0.9547491995731057]\n",
      "Test Accuracies: [0.9505119453924915, 0.9573014517506405, 0.946199829205807, 0.9453458582408198, 0.9393680614859095]\n",
      "Train Precisions: [0.9582140812821981, 0.9551300371534724, 0.9582379862700229, 0.9585121602288984, 0.9593239759381266]\n",
      "Test Precisions: [0.9575200918484501, 0.9610538373424972, 0.956221198156682, 0.9468325791855203, 0.9433748584371461]\n",
      "Train Recalls: [0.9795201872440024, 0.9777647747220597, 0.9801053247513165, 0.9798186604270255, 0.9795261772448084]\n",
      "Test Recalls: [0.9754385964912281, 0.9812865497076023, 0.9707602339181286, 0.9800936768149883, 0.9754098360655737]\n",
      "Train Times: [121.00946807861328, 123.27836322784424, 118.70619440078735, 122.19456219673157, 122.267991065979]\n",
      "Test Times: [20.94132947921753, 22.592478275299072, 21.705448627471924, 21.815021276474, 20.091691255569458]\n"
     ]
    },
    {
     "name": "stderr",
     "output_type": "stream",
     "text": [
      "/home/parkmyungheon/anaconda3/envs/Keras/lib/python3.11/site-packages/keras/src/layers/convolutional/base_conv.py:107: UserWarning: Do not pass an `input_shape`/`input_dim` argument to a layer. When using Sequential models, prefer using an `Input(shape)` object as the first layer in the model instead.\n",
      "  super().__init__(activity_regularizer=activity_regularizer, **kwargs)\n"
     ]
    },
    {
     "name": "stdout",
     "output_type": "stream",
     "text": [
      "Train Accuracies: [0.988950276243094, 0.988950276243094, 0.978021978021978, 0.989010989010989, 0.989010989010989]\n",
      "Test Accuracies: [0.9565217391304348, 0.9347826086956522, 0.9777777777777777, 0.9777777777777777, 1.0]\n",
      "Train Precisions: [0.9861111111111112, 0.9861111111111112, 0.9594594594594594, 0.9861111111111112, 0.972972972972973]\n",
      "Test Precisions: [0.9, 0.8947368421052632, 0.9473684210526315, 1.0, 1.0]\n",
      "Train Recalls: [0.9861111111111112, 0.9861111111111112, 0.9861111111111112, 0.9861111111111112, 1.0]\n",
      "Test Recalls: [1.0, 0.9444444444444444, 1.0, 0.9444444444444444, 1.0]\n",
      "Train Times: [0.35775184631347656, 0.2951338291168213, 0.3045616149902344, 0.37577152252197266, 0.30847787857055664]\n",
      "Test Times: [0.11256623268127441, 0.08081603050231934, 0.08230137825012207, 0.09107780456542969, 0.08461189270019531]\n"
     ]
    }
   ],
   "source": [
    "for dataset, _ in datasets:\n",
    "    embedding_svm(dataset)"
   ]
  }
 ],
 "metadata": {
  "kernelspec": {
   "display_name": "Python 3 (ipykernel)",
   "language": "python",
   "name": "python3"
  },
  "language_info": {
   "codemirror_mode": {
    "name": "ipython",
    "version": 3
   },
   "file_extension": ".py",
   "mimetype": "text/x-python",
   "name": "python",
   "nbconvert_exporter": "python",
   "pygments_lexer": "ipython3",
   "version": "3.11.0"
  }
 },
 "nbformat": 4,
 "nbformat_minor": 5
}
